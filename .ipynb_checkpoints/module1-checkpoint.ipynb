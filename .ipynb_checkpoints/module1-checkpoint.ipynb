{
 "cells": [
  {
   "cell_type": "code",
   "execution_count": 1,
   "metadata": {},
   "outputs": [],
   "source": [
    "import pandas as pd\n",
    "import numpy as np\n",
    "import matplotlib.pyplot as plt\n",
    "import seaborn as sns\n",
    "import requests\n",
    "import json\n",
    "import multiprocessing as multi\n",
    "import warnings\n",
    "import time\n",
    "import re\n",
    "\n",
    "import extra\n",
    "\n",
    "from collections import Counter\n",
    "from selenium import webdriver\n",
    "from bs4 import BeautifulSoup\n",
    "from user_agent import generate_user_agent\n",
    "from datetime import datetime\n",
    "from sklearn.model_selection import train_test_split\n",
    "from sklearn.ensemble import RandomForestRegressor\n",
    "from sklearn import metrics\n",
    "from IPython.core.display import display, HTML\n",
    "\n",
    "#display(HTML(\"<style>.container { width:100% !important; }</style>\"))\n",
    "warnings.filterwarnings('ignore')\n",
    "\n",
    "%matplotlib inline"
   ]
  },
  {
   "cell_type": "code",
   "execution_count": 262,
   "metadata": {},
   "outputs": [],
   "source": [
    "data = pd.read_csv('main_task.csv')"
   ]
  },
  {
   "cell_type": "markdown",
   "metadata": {},
   "source": [
    "Описание столбцов\n",
    "1. Restaurant_id — идентификационный номер ресторана;\n",
    "2. City — город, в котором находится ресторан;\n",
    "3. Cuisine Style — стиль или стили, к которым можно отнести блюда, предлагаемые в ресторане;\n",
    "4. Ranking — место, которое занимает данный ресторан среди всех ресторанов своего города;\n",
    "5. Rating — рейтинг ресторана по данным TripAdvisor (именно это значение должна будет предсказывать модель);\n",
    "6. Price Range — диапазон цен в ресторане;\n",
    "7. Number of Reviews — количество отзывов о ресторане;\n",
    "8. Reviews — данные о двух отзывах, которые отображаются на сайте ресторана;\n",
    "9. URL_TA — URL страницы ресторана на TripAdvosor;\n",
    "10. ID_TA — идентификатор ресторана в базе данных TripAdvisor."
   ]
  },
  {
   "cell_type": "code",
   "execution_count": 183,
   "metadata": {},
   "outputs": [
    {
     "data": {
      "text/html": [
       "<div>\n",
       "<style scoped>\n",
       "    .dataframe tbody tr th:only-of-type {\n",
       "        vertical-align: middle;\n",
       "    }\n",
       "\n",
       "    .dataframe tbody tr th {\n",
       "        vertical-align: top;\n",
       "    }\n",
       "\n",
       "    .dataframe thead th {\n",
       "        text-align: right;\n",
       "    }\n",
       "</style>\n",
       "<table border=\"1\" class=\"dataframe\">\n",
       "  <thead>\n",
       "    <tr style=\"text-align: right;\">\n",
       "      <th></th>\n",
       "      <th>Restaurant_id</th>\n",
       "      <th>City</th>\n",
       "      <th>Cuisine Style</th>\n",
       "      <th>Ranking</th>\n",
       "      <th>Rating</th>\n",
       "      <th>Price Range</th>\n",
       "      <th>Number of Reviews</th>\n",
       "      <th>Reviews</th>\n",
       "      <th>URL_TA</th>\n",
       "      <th>ID_TA</th>\n",
       "    </tr>\n",
       "  </thead>\n",
       "  <tbody>\n",
       "    <tr>\n",
       "      <td>0</td>\n",
       "      <td>id_5569</td>\n",
       "      <td>Paris</td>\n",
       "      <td>['European', 'French', 'International']</td>\n",
       "      <td>5570.0</td>\n",
       "      <td>3.5</td>\n",
       "      <td>$$ - $$$</td>\n",
       "      <td>194.0</td>\n",
       "      <td>[['Good food at your doorstep', 'A good hotel ...</td>\n",
       "      <td>/Restaurant_Review-g187147-d1912643-Reviews-R_...</td>\n",
       "      <td>d1912643</td>\n",
       "    </tr>\n",
       "    <tr>\n",
       "      <td>1</td>\n",
       "      <td>id_1535</td>\n",
       "      <td>Stockholm</td>\n",
       "      <td>NaN</td>\n",
       "      <td>1537.0</td>\n",
       "      <td>4.0</td>\n",
       "      <td>NaN</td>\n",
       "      <td>10.0</td>\n",
       "      <td>[['Unique cuisine', 'Delicious Nepalese food']...</td>\n",
       "      <td>/Restaurant_Review-g189852-d7992032-Reviews-Bu...</td>\n",
       "      <td>d7992032</td>\n",
       "    </tr>\n",
       "    <tr>\n",
       "      <td>2</td>\n",
       "      <td>id_352</td>\n",
       "      <td>London</td>\n",
       "      <td>['Japanese', 'Sushi', 'Asian', 'Grill', 'Veget...</td>\n",
       "      <td>353.0</td>\n",
       "      <td>4.5</td>\n",
       "      <td>$$$$</td>\n",
       "      <td>688.0</td>\n",
       "      <td>[['Catch up with friends', 'Not exceptional'],...</td>\n",
       "      <td>/Restaurant_Review-g186338-d8632781-Reviews-RO...</td>\n",
       "      <td>d8632781</td>\n",
       "    </tr>\n",
       "    <tr>\n",
       "      <td>3</td>\n",
       "      <td>id_3456</td>\n",
       "      <td>Berlin</td>\n",
       "      <td>NaN</td>\n",
       "      <td>3458.0</td>\n",
       "      <td>5.0</td>\n",
       "      <td>NaN</td>\n",
       "      <td>3.0</td>\n",
       "      <td>[[], []]</td>\n",
       "      <td>/Restaurant_Review-g187323-d1358776-Reviews-Es...</td>\n",
       "      <td>d1358776</td>\n",
       "    </tr>\n",
       "    <tr>\n",
       "      <td>4</td>\n",
       "      <td>id_615</td>\n",
       "      <td>Munich</td>\n",
       "      <td>['German', 'Central European', 'Vegetarian Fri...</td>\n",
       "      <td>621.0</td>\n",
       "      <td>4.0</td>\n",
       "      <td>$$ - $$$</td>\n",
       "      <td>84.0</td>\n",
       "      <td>[['Best place to try a Bavarian food', 'Nice b...</td>\n",
       "      <td>/Restaurant_Review-g187309-d6864963-Reviews-Au...</td>\n",
       "      <td>d6864963</td>\n",
       "    </tr>\n",
       "    <tr>\n",
       "      <td>5</td>\n",
       "      <td>id_1418</td>\n",
       "      <td>Oporto</td>\n",
       "      <td>NaN</td>\n",
       "      <td>1419.0</td>\n",
       "      <td>3.0</td>\n",
       "      <td>NaN</td>\n",
       "      <td>2.0</td>\n",
       "      <td>[['There are better 3 star hotel bars', 'Amazi...</td>\n",
       "      <td>/Restaurant_Review-g189180-d12503536-Reviews-D...</td>\n",
       "      <td>d12503536</td>\n",
       "    </tr>\n",
       "    <tr>\n",
       "      <td>6</td>\n",
       "      <td>id_1720</td>\n",
       "      <td>Milan</td>\n",
       "      <td>['Italian', 'Pizza']</td>\n",
       "      <td>1722.0</td>\n",
       "      <td>4.0</td>\n",
       "      <td>$</td>\n",
       "      <td>50.0</td>\n",
       "      <td>[['Excellent simple local eatery.', 'Excellent...</td>\n",
       "      <td>/Restaurant_Review-g187849-d5808504-Reviews-Pi...</td>\n",
       "      <td>d5808504</td>\n",
       "    </tr>\n",
       "    <tr>\n",
       "      <td>7</td>\n",
       "      <td>id_825</td>\n",
       "      <td>Bratislava</td>\n",
       "      <td>['Italian']</td>\n",
       "      <td>826.0</td>\n",
       "      <td>3.0</td>\n",
       "      <td>NaN</td>\n",
       "      <td>9.0</td>\n",
       "      <td>[['Wasting of money', 'excellent cuisine'], ['...</td>\n",
       "      <td>/Restaurant_Review-g274924-d3199765-Reviews-Ri...</td>\n",
       "      <td>d3199765</td>\n",
       "    </tr>\n",
       "    <tr>\n",
       "      <td>8</td>\n",
       "      <td>id_2690</td>\n",
       "      <td>Vienna</td>\n",
       "      <td>NaN</td>\n",
       "      <td>2692.0</td>\n",
       "      <td>4.0</td>\n",
       "      <td>NaN</td>\n",
       "      <td>NaN</td>\n",
       "      <td>[[], []]</td>\n",
       "      <td>/Restaurant_Review-g190454-d12845029-Reviews-G...</td>\n",
       "      <td>d12845029</td>\n",
       "    </tr>\n",
       "    <tr>\n",
       "      <td>9</td>\n",
       "      <td>id_4209</td>\n",
       "      <td>Rome</td>\n",
       "      <td>['Italian', 'Pizza', 'Fast Food']</td>\n",
       "      <td>4210.0</td>\n",
       "      <td>4.0</td>\n",
       "      <td>$</td>\n",
       "      <td>55.0</td>\n",
       "      <td>[['Clean efficient staff', 'Nice little pizza ...</td>\n",
       "      <td>/Restaurant_Review-g187791-d8020681-Reviews-Qu...</td>\n",
       "      <td>d8020681</td>\n",
       "    </tr>\n",
       "  </tbody>\n",
       "</table>\n",
       "</div>"
      ],
      "text/plain": [
       "  Restaurant_id        City  \\\n",
       "0       id_5569       Paris   \n",
       "1       id_1535   Stockholm   \n",
       "2        id_352      London   \n",
       "3       id_3456      Berlin   \n",
       "4        id_615      Munich   \n",
       "5       id_1418      Oporto   \n",
       "6       id_1720       Milan   \n",
       "7        id_825  Bratislava   \n",
       "8       id_2690      Vienna   \n",
       "9       id_4209        Rome   \n",
       "\n",
       "                                       Cuisine Style  Ranking  Rating  \\\n",
       "0            ['European', 'French', 'International']   5570.0     3.5   \n",
       "1                                                NaN   1537.0     4.0   \n",
       "2  ['Japanese', 'Sushi', 'Asian', 'Grill', 'Veget...    353.0     4.5   \n",
       "3                                                NaN   3458.0     5.0   \n",
       "4  ['German', 'Central European', 'Vegetarian Fri...    621.0     4.0   \n",
       "5                                                NaN   1419.0     3.0   \n",
       "6                               ['Italian', 'Pizza']   1722.0     4.0   \n",
       "7                                        ['Italian']    826.0     3.0   \n",
       "8                                                NaN   2692.0     4.0   \n",
       "9                  ['Italian', 'Pizza', 'Fast Food']   4210.0     4.0   \n",
       "\n",
       "  Price Range  Number of Reviews  \\\n",
       "0    $$ - $$$              194.0   \n",
       "1         NaN               10.0   \n",
       "2        $$$$              688.0   \n",
       "3         NaN                3.0   \n",
       "4    $$ - $$$               84.0   \n",
       "5         NaN                2.0   \n",
       "6           $               50.0   \n",
       "7         NaN                9.0   \n",
       "8         NaN                NaN   \n",
       "9           $               55.0   \n",
       "\n",
       "                                             Reviews  \\\n",
       "0  [['Good food at your doorstep', 'A good hotel ...   \n",
       "1  [['Unique cuisine', 'Delicious Nepalese food']...   \n",
       "2  [['Catch up with friends', 'Not exceptional'],...   \n",
       "3                                           [[], []]   \n",
       "4  [['Best place to try a Bavarian food', 'Nice b...   \n",
       "5  [['There are better 3 star hotel bars', 'Amazi...   \n",
       "6  [['Excellent simple local eatery.', 'Excellent...   \n",
       "7  [['Wasting of money', 'excellent cuisine'], ['...   \n",
       "8                                           [[], []]   \n",
       "9  [['Clean efficient staff', 'Nice little pizza ...   \n",
       "\n",
       "                                              URL_TA      ID_TA  \n",
       "0  /Restaurant_Review-g187147-d1912643-Reviews-R_...   d1912643  \n",
       "1  /Restaurant_Review-g189852-d7992032-Reviews-Bu...   d7992032  \n",
       "2  /Restaurant_Review-g186338-d8632781-Reviews-RO...   d8632781  \n",
       "3  /Restaurant_Review-g187323-d1358776-Reviews-Es...   d1358776  \n",
       "4  /Restaurant_Review-g187309-d6864963-Reviews-Au...   d6864963  \n",
       "5  /Restaurant_Review-g189180-d12503536-Reviews-D...  d12503536  \n",
       "6  /Restaurant_Review-g187849-d5808504-Reviews-Pi...   d5808504  \n",
       "7  /Restaurant_Review-g274924-d3199765-Reviews-Ri...   d3199765  \n",
       "8  /Restaurant_Review-g190454-d12845029-Reviews-G...  d12845029  \n",
       "9  /Restaurant_Review-g187791-d8020681-Reviews-Qu...   d8020681  "
      ]
     },
     "execution_count": 183,
     "metadata": {},
     "output_type": "execute_result"
    }
   ],
   "source": [
    "data.head(10)"
   ]
  },
  {
   "cell_type": "code",
   "execution_count": 178,
   "metadata": {},
   "outputs": [
    {
     "name": "stdout",
     "output_type": "stream",
     "text": [
      "<class 'pandas.core.frame.DataFrame'>\n",
      "RangeIndex: 40000 entries, 0 to 39999\n",
      "Data columns (total 10 columns):\n",
      "Restaurant_id        40000 non-null object\n",
      "City                 40000 non-null object\n",
      "Cuisine Style        30717 non-null object\n",
      "Ranking              40000 non-null float64\n",
      "Rating               40000 non-null float64\n",
      "Price Range          26114 non-null object\n",
      "Number of Reviews    37457 non-null float64\n",
      "Reviews              40000 non-null object\n",
      "URL_TA               40000 non-null object\n",
      "ID_TA                40000 non-null object\n",
      "dtypes: float64(3), object(7)\n",
      "memory usage: 3.1+ MB\n"
     ]
    }
   ],
   "source": [
    "# посмотрим на заполнение стобцов\n",
    "data.info()"
   ]
  },
  {
   "cell_type": "markdown",
   "metadata": {},
   "source": [
    "9283 строки не содержат информацию о стиле/стилях кухни ресторанов (23,2% от количества объектов), 13886 строк не содержат информацию о диапазоне цен (34,7%), 2543 строки не содержат информации о количестве отзывов (6,3%)"
   ]
  },
  {
   "cell_type": "markdown",
   "metadata": {},
   "source": [
    "Посмотрим на значения диапазона цен и рейтинга"
   ]
  },
  {
   "cell_type": "code",
   "execution_count": 27,
   "metadata": {},
   "outputs": [
    {
     "name": "stdout",
     "output_type": "stream",
     "text": [
      "Price range values = ['$$ - $$$' nan '$$$$' '$']\n",
      "Rating interval = (0.995, 5.0]\n",
      "Rating values = [ 3.5  4.   4.5  5.   3.   2.5  2.   1.   1.5]\n"
     ]
    }
   ],
   "source": [
    "print('Price range values = {}'.format(data['Price Range'].unique()))\n",
    "print('Rating interval = {}'.format(data['Rating'].value_counts(bins=1).index[0]))\n",
    "print('Rating values = {}'.format(data['Rating'].unique()))"
   ]
  },
  {
   "cell_type": "markdown",
   "metadata": {},
   "source": [
    "##  Задание"
   ]
  },
  {
   "cell_type": "markdown",
   "metadata": {},
   "source": [
    "<b>Из постановки задачи: мы должны использовать в модели датафрейм, содержащий только количественные признаки и не содержащий None-значений. На первом этапе для создания такого датафрейма давайте просто удалим столбцы, содержащие данные типа object, и заполним пропущенные значения (None или NaN) каким-то одним значением (нулём или средним арифметическим) для  всего столбца.<b>"
   ]
  },
  {
   "cell_type": "markdown",
   "metadata": {},
   "source": [
    "Таким образом, удалим столбцы типа object, убедимся, что количество отзывов и место ресторана - целые значения и заполним нолями пропуски в столбце количества отзывов. Сохраним все в отдельную переменную task_df "
   ]
  },
  {
   "cell_type": "code",
   "execution_count": 43,
   "metadata": {},
   "outputs": [
    {
     "name": "stdout",
     "output_type": "stream",
     "text": [
      "[ True] [ True]\n"
     ]
    }
   ],
   "source": [
    "# проверим, что количество отзывов и места - целые числа\n",
    "number_of_reviews = data['Number of Reviews'].dropna().apply(lambda x: x.is_integer())\n",
    "ranking = data['Ranking'].dropna().apply(lambda x: x.is_integer())\n",
    "\n",
    "print(number_of_reviews.unique(), ranking.unique())"
   ]
  },
  {
   "cell_type": "code",
   "execution_count": 9,
   "metadata": {
    "collapsed": true
   },
   "outputs": [],
   "source": [
    "task_df = data.drop(labels=['Restaurant_id','City','Cuisine Style','Price Range','Reviews','URL_TA','ID_TA'], axis=1).fillna(0)"
   ]
  },
  {
   "cell_type": "code",
   "execution_count": 24,
   "metadata": {},
   "outputs": [
    {
     "data": {
      "text/plain": [
       "0"
      ]
     },
     "execution_count": 24,
     "metadata": {},
     "output_type": "execute_result"
    }
   ],
   "source": [
    "# Убедимся, что не осталось пропущенных значений\n",
    "values = task_df.isnull().values\n",
    "values[values == True].size"
   ]
  },
  {
   "cell_type": "code",
   "execution_count": 25,
   "metadata": {},
   "outputs": [
    {
     "data": {
      "text/html": [
       "<div>\n",
       "<style scoped>\n",
       "    .dataframe tbody tr th:only-of-type {\n",
       "        vertical-align: middle;\n",
       "    }\n",
       "\n",
       "    .dataframe tbody tr th {\n",
       "        vertical-align: top;\n",
       "    }\n",
       "\n",
       "    .dataframe thead th {\n",
       "        text-align: right;\n",
       "    }\n",
       "</style>\n",
       "<table border=\"1\" class=\"dataframe\">\n",
       "  <thead>\n",
       "    <tr style=\"text-align: right;\">\n",
       "      <th></th>\n",
       "      <th>Ranking</th>\n",
       "      <th>Rating</th>\n",
       "      <th>Number of Reviews</th>\n",
       "    </tr>\n",
       "  </thead>\n",
       "  <tbody>\n",
       "    <tr>\n",
       "      <td>0</td>\n",
       "      <td>5570.0</td>\n",
       "      <td>3.5</td>\n",
       "      <td>194.0</td>\n",
       "    </tr>\n",
       "    <tr>\n",
       "      <td>1</td>\n",
       "      <td>1537.0</td>\n",
       "      <td>4.0</td>\n",
       "      <td>10.0</td>\n",
       "    </tr>\n",
       "    <tr>\n",
       "      <td>2</td>\n",
       "      <td>353.0</td>\n",
       "      <td>4.5</td>\n",
       "      <td>688.0</td>\n",
       "    </tr>\n",
       "    <tr>\n",
       "      <td>3</td>\n",
       "      <td>3458.0</td>\n",
       "      <td>5.0</td>\n",
       "      <td>3.0</td>\n",
       "    </tr>\n",
       "    <tr>\n",
       "      <td>4</td>\n",
       "      <td>621.0</td>\n",
       "      <td>4.0</td>\n",
       "      <td>84.0</td>\n",
       "    </tr>\n",
       "  </tbody>\n",
       "</table>\n",
       "</div>"
      ],
      "text/plain": [
       "   Ranking  Rating  Number of Reviews\n",
       "0   5570.0     3.5              194.0\n",
       "1   1537.0     4.0               10.0\n",
       "2    353.0     4.5              688.0\n",
       "3   3458.0     5.0                3.0\n",
       "4    621.0     4.0               84.0"
      ]
     },
     "execution_count": 25,
     "metadata": {},
     "output_type": "execute_result"
    }
   ],
   "source": [
    "# Итоговый датафрейм\n",
    "task_df.head()"
   ]
  },
  {
   "cell_type": "markdown",
   "metadata": {},
   "source": [
    "Применим базовую модель из ноутбука you_first_model"
   ]
  },
  {
   "cell_type": "code",
   "execution_count": 37,
   "metadata": {
    "collapsed": true
   },
   "outputs": [],
   "source": [
    "X = task_df.iloc[:, [0, 2]]\n",
    "y = task_df.iloc[:, 1]\n",
    "\n",
    "X_train, X_test, y_train, y_test = train_test_split(X, y, test_size=0.25)"
   ]
  },
  {
   "cell_type": "code",
   "execution_count": 38,
   "metadata": {},
   "outputs": [
    {
     "name": "stdout",
     "output_type": "stream",
     "text": [
      "MAE: 0.4316716077380952\n"
     ]
    }
   ],
   "source": [
    "regr = RandomForestRegressor(n_estimators=100, random_state=42)\n",
    "regr.fit(X_train, y_train)\n",
    "y_pred = regr.predict(X_test)\n",
    "\n",
    "print('MAE:', metrics.mean_absolute_error(y_test, y_pred))"
   ]
  },
  {
   "cell_type": "markdown",
   "metadata": {},
   "source": [
    "Метрика MAE приняла значение 0.43. Учитывая, что рейтинг изменяется в интервале от 1 до 5 с шагом 0.5 (Rating values = [ 3.5  4.   4.5  5.   3.   2.5  2.   1.   1.5]), отклонение получилось довольно существенным. Очевидно, что нужно вводить больше признаков."
   ]
  },
  {
   "cell_type": "markdown",
   "metadata": {},
   "source": [
    "### Дополнительные данные и функции для обработки данных "
   ]
  },
  {
   "cell_type": "code",
   "execution_count": 129,
   "metadata": {},
   "outputs": [],
   "source": [
    "SITE = 'https://www.tripadvisor.com'\n",
    "NOT_CAPITALS = [\"Munich\", \"Oporto\", \"Milan\", \"Barcelona\", \"Zurich\", \"Lyon\", \"Hamburg\", \"Geneva\", \"Krakow\"]\n",
    "CITIES = data['City'].unique()"
   ]
  },
  {
   "cell_type": "code",
   "execution_count": 130,
   "metadata": {},
   "outputs": [],
   "source": [
    "# Данные по количеству жителей в городах. Информация взята с Википедии. Значения взяты в тысячах человек\n",
    "\n",
    "population_values = [2190, 961, 8908, 3645, 1471, 237, 1378, 426, 1897, 2876, 1634, 3165, 1173, 179, 428, 1783, 1752, 615, 857, 506, 1841, 505, 1301, 673, 643, 488, 200, 284, 664, 115, 769]\n",
    "POPULATION = dict.fromkeys(CITIES, 0)\n",
    "\n",
    "for key, value in zip(POPULATION.keys(), population_values):\n",
    "    POPULATION[key] = value"
   ]
  },
  {
   "cell_type": "code",
   "execution_count": 131,
   "metadata": {},
   "outputs": [],
   "source": [
    "# рейтинг популярности городов среди туристов по данным консалтиногого агентства \"Euromonitor\"\n",
    "# источник данных датафрейма https://go.euromonitor.com/white-paper-travel-2019-100-cities.html#download-link\n",
    "# источник в вики https://en.wikipedia.org/wiki/List_of_cities_by_international_visitors\n",
    "\n",
    "tourism_arrivals_19 = [19087.9, 2721.9, 19559.9, 6195.8, 4205.5, 2491.7, 6604.4, np.nan, 6634.7, 10317.0, 7016.6, 5597.8, 5462.1, 4276.0, np.nan, 2827.0, 4025.4, 3185.6, 8835.4, np.nan, np.nan, 3639.9, 9150.9, np.nan, np.nan, np.nan, np.nan, np.nan, 6301.3, np.nan, 2910.0]\n",
    "tourism_arrivals_18 = [17560.2, 2604.6, 19233.0, 5959.4, 4066.6, 2341.3, 6481.3, np.nan, 6410.3, 10065.4, 6714.5, 5440.1, 5213.4, 3942.0, 6100.0, 2732.0, 3822.8, 3069.7, 8354.2, np.nan, np.nan, 3539.4, 8948.6, np.nan, np.nan, np.nan, np.nan, np.nan, 5728.4, np.nan, 2850.0]\n",
    "tourism_arrivals_17 = [15834.2, 2473.5, 19828.0, 5627.4, 3829.2, 2232.5, 6347.9, np.nan, 6186.4, 9531.6, 6288.9, 5273.1, 4986.5, 3430.0, 5700.0, 2630.0, 3654.0, 2963.7, 7848.0, np.nan, np.nan, 3522.8, 8806.7, np.nan, np.nan, np.nan, np.nan, np.nan, 4797.4, np.nan, 2800.0]\n",
    "\n",
    "ARRIVALS_17 = dict.fromkeys(CITIES, 0)\n",
    "ARRIVALS_18 = dict.fromkeys(CITIES, 0)\n",
    "\n",
    "for key, value in zip(ARRIVALS_17.keys(), tourism_arrivals_17):\n",
    "    ARRIVALS_17[key] = value\n",
    "    \n",
    "for key, value in zip(ARRIVALS_18.keys(), tourism_arrivals_18):\n",
    "    ARRIVALS_18[key] = value"
   ]
  },
  {
   "cell_type": "code",
   "execution_count": 132,
   "metadata": {},
   "outputs": [],
   "source": [
    "# для ресторанов, у которых отсутсвуют типы кухонь будем считать, что в каждом таком ресторане подаются как минимум блюда\n",
    "# национальной кухни. Например для ресторанов в Париже - французская кухня, в Лондоне - британская. Плюс для некоторых\n",
    "# стран можно добавить определенные типы кухонь, связанные с географией или национальным блюдом, или выходом к морю или океану\n",
    "\n",
    "ADDITIONAL_CUISINES = dict.fromkeys(CITIES)\n",
    "\n",
    "cuisines_values = [\n",
    "    ['French'],\n",
    "    ['Swedish', 'Scandinavian'],\n",
    "    ['British', 'Pub'],\n",
    "    ['German'],\n",
    "    ['German'],\n",
    "    ['Portuguese', 'Seafood'],\n",
    "    ['Italian', 'Pizza'],\n",
    "    ['Central European'],\n",
    "    ['Austrian'],\n",
    "    ['Italian', 'Pizza', 'Mediterranean'],\n",
    "    ['Spanish', 'Mediterranean'],\n",
    "    ['Spanish'],\n",
    "    ['Irish'],\n",
    "    ['Belgian'],\n",
    "    ['Swiss', 'Central European'],\n",
    "    ['Polish', 'Eastern European'],\n",
    "    ['Hungarian', 'Central European'],\n",
    "    ['Danish'],\n",
    "    ['Dutch'],\n",
    "    ['French'],\n",
    "    ['German'],\n",
    "    ['Portuguese', 'Seafood'],\n",
    "    ['Czech', 'Central European'],\n",
    "    ['Norwegian', 'Scandinavian'],\n",
    "    ['Scandinavian'],\n",
    "    ['Scottish'],\n",
    "    ['Swiss', 'Central European'],\n",
    "    ['Slovenian', 'Central European'],\n",
    "    ['Greek', 'Mediterranean'],\n",
    "    ['European'],\n",
    "    ['Polish', 'Eastern European']\n",
    "]\n",
    "\n",
    "for key, value in zip(ADDITIONAL_CUISINES.keys(), cuisines_values):\n",
    "    ADDITIONAL_CUISINES[key] = value"
   ]
  },
  {
   "cell_type": "code",
   "execution_count": 133,
   "metadata": {},
   "outputs": [],
   "source": [
    "# Преобразование строкового представления списка в list (для признака \"стили кухни\")\n",
    "def cuisines_to_list(string):\n",
    "    if isinstance(string, list):\n",
    "        return string\n",
    "    \n",
    "    return [s.strip(\"\\'\") for s in string.strip('[]').split(', ')]"
   ]
  },
  {
   "cell_type": "code",
   "execution_count": 134,
   "metadata": {},
   "outputs": [],
   "source": [
    "# Преобразование ценового диапазона в числовое представление\n",
    "def price_range_to_number(string):\n",
    "    if string == '$':\n",
    "        return 1\n",
    "    if string == '$$ - $$$':\n",
    "        return 2\n",
    "    if string == '$$$$':\n",
    "        return 3\n",
    "    \n",
    "    return 0"
   ]
  },
  {
   "cell_type": "code",
   "execution_count": 135,
   "metadata": {},
   "outputs": [],
   "source": [
    "# Извлечение дат из значений признака Reviews\n",
    "def get_dates(string):\n",
    "    #if np.isnan(string):\n",
    "    #    string = '[[], []]'\n",
    "    # [0-9|/]+\n",
    "    pattern = re.compile('[0-9]{2}/[0-9]{2}/[0-9]{4}')\n",
    "    dates = pattern.findall(string)\n",
    "    \n",
    "    if dates == []:\n",
    "        return [np.nan] * 2\n",
    "    elif len(dates) == 1:\n",
    "        return dates + [np.nan]\n",
    "    \n",
    "    return dates"
   ]
  },
  {
   "cell_type": "code",
   "execution_count": 136,
   "metadata": {},
   "outputs": [],
   "source": [
    "# Определяем, расположен ли ресторан в столичном городе (для нового признака Capital)\n",
    "def is_restaurant_in_capital(item):\n",
    "    if item in NOT_CAPITALS:\n",
    "        return 0\n",
    "    \n",
    "    return 1"
   ]
  },
  {
   "cell_type": "code",
   "execution_count": 137,
   "metadata": {},
   "outputs": [],
   "source": [
    "# Признак нахождения города ресторана в топе стран по посещаемости туритсами\n",
    "# Источник https://en.wikipedia.org/wiki/World_Tourism_rankings\n",
    "def is_city_of_top_tourism_country(city):\n",
    "    if city in ['Paris', 'Lyon', 'Madrid', 'Barcelona', 'Rome', 'Milan', 'Berlin', 'Munich', 'London', 'Vienna', 'Athens', 'Lisbon', 'Oporto']:\n",
    "        return 1\n",
    "    \n",
    "    return 0"
   ]
  },
  {
   "cell_type": "code",
   "execution_count": 138,
   "metadata": {},
   "outputs": [],
   "source": [
    "# Функция заполнения недостающих значений признака Number of Reviews средним по городу, в котором находится ресторан\n",
    "def mean_number_of_reviews_per_city(df):\n",
    "    filtered_df = df[df['Number of Reviews'].isnull()]\n",
    "    reviews_means = []\n",
    "    \n",
    "    for item in range(filtered_df.shape[0]):\n",
    "        reviews_means.append(int(df[df['City'] == filtered_df.iloc[item]['City']]['Number of Reviews'].mean()))\n",
    "    \n",
    "    return pd.Series(data=reviews_means, index = filtered_df.index)"
   ]
  },
  {
   "cell_type": "code",
   "execution_count": 139,
   "metadata": {},
   "outputs": [],
   "source": [
    "# Преобразование строкового представления списков в list (для признака Reviews)\n",
    "def reviews_to_list(string, dates=False):\n",
    "    pattern = re.compile('\\'[^\\']+\\'')\n",
    "    reviews = [word[1:-1] for word in pattern.findall(string)]\n",
    "    \n",
    "    if reviews == []:\n",
    "        return [np.nan] * 2\n",
    "    \n",
    "    if dates:\n",
    "        return reviews[-2:] if len(reviews) == 4 else [reviews[-1], np.nan]\n",
    "    else:\n",
    "        return reviews[:2] if len(reviews) == 4 else [reviews[0], np.nan]"
   ]
  },
  {
   "cell_type": "code",
   "execution_count": 408,
   "metadata": {},
   "outputs": [],
   "source": [
    "# Сбор данных о ценовом диапазоне с сайта tripadvisor для дозаполнения пропущенных значений \n",
    "def get_price_range_from_site(df):\n",
    "    result = pd.Series()\n",
    "    pattern = re.compile('\\$\\$ - \\$\\$\\$|\\$+')\n",
    "    local_df = df.copy()\n",
    "    filtered_df = local_df[local_df['Price Range'].isnull()]\n",
    "    print('shape = {}'.format(filtered_df.shape[0]))\n",
    "    indexes = filtered_df['Price Range'].index\n",
    "    prs = []\n",
    "    \n",
    "    for i in range(filtered_df.shape[0]):\n",
    "        time.sleep(2)\n",
    "        try:\n",
    "            response = requests.get(SITE + filtered_df.iloc[i]['URL_TA'])\n",
    "        except Exception as err:\n",
    "            print('Caught exception')\n",
    "            print(err)\n",
    "            prs = prs + [np.nan]\n",
    "            #print('common = {}'.format(prs))\n",
    "            continue\n",
    "        \n",
    "        page = BeautifulSoup(response.text, 'html.parser')\n",
    "        string = page.find(class_='header_links')\n",
    "        print('#{} url = {}\\nstring = {}'.format(i + 1, filtered_df.iloc[i]['URL_TA'], string))\n",
    "        \n",
    "        if string is None:\n",
    "            prs = prs + [np.nan]\n",
    "            #print('common = {}'.format(prs))\n",
    "            continue\n",
    "        \n",
    "        pr = pattern.findall(string.text)\n",
    "        print('pr = {}\\n'.format(pr))\n",
    "        \n",
    "        if pr != []:\n",
    "            filtered_df.iloc[i]['Price Range'] = pr[0]\n",
    "            prs = prs + pr\n",
    "            #print('common = {}'.format(prs))\n",
    "        else:\n",
    "            prs = prs + [np.nan]\n",
    "            #print('common = {}'.format(prs))\n",
    "            continue\n",
    "    \n",
    "    return pd.Series(prs, index=indexes)"
   ]
  },
  {
   "cell_type": "code",
   "execution_count": 409,
   "metadata": {},
   "outputs": [],
   "source": [
    "# Сбор данных о типах кухонь с сайта tripadvisor для дозаполнения пропущенных значений \n",
    "def get_additioinal_cuisines(df, all_cuisines):\n",
    "    #pattern = re.compile('\\$\\$ - \\$\\$\\$|\\$+')\n",
    "    local_df = df.copy()\n",
    "    filtered_df = local_df[local_df['Cuisine Style'].isnull()]\n",
    "    print('shape = {}'.format(filtered_df.shape[0]))\n",
    "    indexes = filtered_df['Cuisine Style'].index\n",
    "    cs = []\n",
    "    \n",
    "    for i in range(filtered_df.shape[0]):\n",
    "        time.sleep(2)\n",
    "        try:\n",
    "            response = requests.get(SITE + filtered_df.iloc[i]['URL_TA'])\n",
    "        except Exception as err:\n",
    "            print('Caught exception')\n",
    "            print(err)\n",
    "            cs = cs + [np.nan]\n",
    "            #print('common = {}'.format(cs))\n",
    "            continue\n",
    "            \n",
    "        page = BeautifulSoup(response.text, 'html.parser')\n",
    "        string = page.find(class_='header_links')\n",
    "        print('#{} url = {}\\nstring = {}'.format(i + 1, filtered_df.iloc[i]['URL_TA'], string))\n",
    "        \n",
    "        if string is None:\n",
    "            cs = cs + [np.nan]\n",
    "            #print('common = {}'.format(cs))\n",
    "            continue\n",
    "        \n",
    "        temp = []\n",
    "        for item in all_cuisines:\n",
    "            if item in string.text:\n",
    "                temp.append(item)\n",
    "                \n",
    "        print('temp = {}'.format(temp))\n",
    "        if temp != []:\n",
    "            #filtered_df.iloc[i]['Price Range'] = pr[0]\n",
    "            cs.append(temp)\n",
    "            #print('common = {}'.format(cs))\n",
    "        else:\n",
    "            cs = cs + [np.nan]\n",
    "            #print('common = {}'.format(cs))\n",
    "            continue\n",
    "        \n",
    "    return pd.Series(cs, index=indexes)"
   ]
  },
  {
   "cell_type": "code",
   "execution_count": 140,
   "metadata": {},
   "outputs": [],
   "source": [
    "def MAE(X, y):\n",
    "    X_train, X_test, y_train, y_test = train_test_split(X, y, test_size=0.25)\n",
    "    \n",
    "    estimator = RandomForestRegressor(n_estimators=100, random_state=42)\n",
    "    estimator.fit(X_train, y_train)\n",
    "    y_pred = estimator.predict(X_test)\n",
    "\n",
    "    print('MAE:', metrics.mean_absolute_error(y_test, y_pred))"
   ]
  },
  {
   "cell_type": "markdown",
   "metadata": {},
   "source": [
    "## Наполнение выборки данными "
   ]
  },
  {
   "cell_type": "code",
   "execution_count": 12,
   "metadata": {},
   "outputs": [
    {
     "data": {
      "text/plain": [
       "31"
      ]
     },
     "execution_count": 12,
     "metadata": {},
     "output_type": "execute_result"
    }
   ],
   "source": [
    "# Сколько городов представлено в наборе данных?\n",
    "data['City'].nunique()"
   ]
  },
  {
   "cell_type": "code",
   "execution_count": 8,
   "metadata": {},
   "outputs": [
    {
     "data": {
      "text/plain": [
       "array(['Paris', 'Stockholm', 'London', 'Berlin', 'Munich', 'Oporto',\n",
       "       'Milan', 'Bratislava', 'Vienna', 'Rome', 'Barcelona', 'Madrid',\n",
       "       'Dublin', 'Brussels', 'Zurich', 'Warsaw', 'Budapest', 'Copenhagen',\n",
       "       'Amsterdam', 'Lyon', 'Hamburg', 'Lisbon', 'Prague', 'Oslo',\n",
       "       'Helsinki', 'Edinburgh', 'Geneva', 'Ljubljana', 'Athens',\n",
       "       'Luxembourg', 'Krakow'], dtype=object)"
      ]
     },
     "execution_count": 8,
     "metadata": {},
     "output_type": "execute_result"
    }
   ],
   "source": [
    "data['City'].unique()"
   ]
  },
  {
   "cell_type": "code",
   "execution_count": 11,
   "metadata": {},
   "outputs": [
    {
     "data": {
      "text/plain": [
       "30424"
      ]
     },
     "execution_count": 11,
     "metadata": {},
     "output_type": "execute_result"
    }
   ],
   "source": [
    "# Сколько ресторанов расположены в столичных городах?\n",
    "data.query('City not in [\"Munich\", \"Oporto\", \"Milan\", \"Barcelona\", \"Zurich\", \"Lyon\", \"Hamburg\", \"Geneva\", \"Krakow\"]').shape[0]"
   ]
  },
  {
   "cell_type": "code",
   "execution_count": 160,
   "metadata": {},
   "outputs": [
    {
     "data": {
      "text/plain": [
       "125"
      ]
     },
     "execution_count": 160,
     "metadata": {},
     "output_type": "execute_result"
    }
   ],
   "source": [
    "# Сколько типов кухонь представлено в наборе данных?\n",
    "all_cuisines = set()\n",
    "\n",
    "for cuisine in data['Cuisine Style'].dropna():\n",
    "    all_cuisines.update(cuisines_to_list(cuisine))\n",
    "\n",
    "#all_cuisines = set([cuisine[1:-1] for cuisine in all_cuisines])\n",
    "len(all_cuisines)"
   ]
  },
  {
   "cell_type": "code",
   "execution_count": 142,
   "metadata": {},
   "outputs": [
    {
     "name": "stdout",
     "output_type": "stream",
     "text": [
      "Counter({'Vegetarian Friendly': 11189, 'European': 10060, 'Mediterranean': 6277, 'Italian': 5964, 'Vegan Options': 4486, 'Gluten Free Options': 4113, 'Bar': 3297, 'French': 3190, 'Asian': 3011, 'Pizza': 2849, 'Spanish': 2798, 'Pub': 2449, 'Cafe': 2325, 'Fast Food': 1705, 'British': 1595, 'International': 1584, 'Seafood': 1505, 'Japanese': 1464, 'Central European': 1393, 'American': 1315, 'Sushi': 1156, 'Chinese': 1145, 'Portuguese': 1107, 'Indian': 1041, 'Middle Eastern': 782, 'Thai': 743, 'Wine Bar': 697, 'German': 662, 'Healthy': 620, 'Greek': 604, 'Halal': 598, 'Czech': 595, 'Fusion': 577, 'Steakhouse': 573, 'Barbecue': 555, 'Contemporary': 523, 'Vietnamese': 513, 'Eastern European': 496, 'Soups': 494, 'Grill': 490, 'Gastropub': 471, 'Mexican': 445, 'Turkish': 444, 'Delicatessen': 392, 'Austrian': 380, 'South American': 372, 'Polish': 365, 'Hungarian': 352, 'Scandinavian': 342, 'Lebanese': 329, 'Latin': 302, 'Diner': 295, 'Dutch': 294, 'Irish': 284, 'Belgian': 270, 'Street Food': 263, 'Brew Pub': 225, 'Swiss': 178, 'Danish': 177, 'Swedish': 171, 'Argentinean': 169, 'Korean': 167, 'Scottish': 163, 'African': 154, 'Moroccan': 141, 'Central American': 135, 'Brazilian': 127, 'Pakistani': 123, 'Peruvian': 94, 'Caribbean': 93, 'Nepali': 83, 'Balti': 83, 'Bangladeshi': 76, 'Norwegian': 75, 'Israeli': 74, 'Slovenian': 68, 'Indonesian': 59, 'Russian': 58, 'Persian': 53, 'Arabic': 51, 'Kosher': 48, 'Ethiopian': 42, 'Venezuelan': 40, 'Malaysian': 31, 'Croatian': 27, 'Jamaican': 25, 'Sri Lankan': 25, 'Tibetan': 24, 'Australian': 24, 'Cuban': 23, 'Taiwanese': 22, 'Afghani': 22, 'Hawaiian': 21, 'Tunisian': 21, 'Egyptian': 20, 'Colombian': 20, 'Cambodian': 20, 'Cajun & Creole': 20, 'Singaporean': 19, 'Ukrainian': 18, 'Southwestern': 17, 'Georgian': 17, 'Mongolian': 14, 'Armenian': 14, 'Central Asian': 12, 'Filipino': 12, 'Minority Chinese': 11, 'Romanian': 10, 'Chilean': 8, 'Albanian': 8, 'New Zealand': 6, 'Uzbek': 5, 'Canadian': 5, 'Ecuadorean': 4, 'Caucasian': 4, 'Native American': 4, 'Polynesian': 2, 'Azerbaijani': 2, 'Fujian': 2, 'Welsh': 2, 'Salvadoran': 1, 'Yunnan': 1, 'Xinjiang': 1, 'Burmese': 1, 'Latvian': 1})\n"
     ]
    }
   ],
   "source": [
    "# Какая кухня представлена в наибольшем количестве ресторанов? Введите название кухни без кавычек или апострофов.\n",
    "c = Counter()\n",
    "\n",
    "for cuisines in data['Cuisine Style'].dropna():\n",
    "    for cuisine in cuisines.strip('[]').split(', '):\n",
    "        c[cuisine.strip(\"\\'\")] += 1\n",
    "        \n",
    "print(c)"
   ]
  },
  {
   "cell_type": "code",
   "execution_count": 43,
   "metadata": {},
   "outputs": [
    {
     "name": "stdout",
     "output_type": "stream",
     "text": [
      "2.6224\n"
     ]
    }
   ],
   "source": [
    "# Какое среднее количество кухонь предлагается в одном ресторане?\n",
    "# Если в данных отсутствует информация о типах кухонь, то считайте, что в этом ресторане предлагается только один тип кухни. \n",
    "# Ответ округлите до одного знака после запятой.\n",
    "\n",
    "cuisines = data.loc[:, 'Cuisine Style'].fillna('[Vegetarian Friendly]')\n",
    "cuisines = cuisines.apply(lambda x: cuisines_to_list(x))\n",
    "\n",
    "cuisines_in_all_restaurants = []\n",
    "\n",
    "for cuisine in cuisines:\n",
    "    cuisines_in_all_restaurants.append(len(cuisine))\n",
    "\n",
    "print(np.mean(cuisines_in_all_restaurants))"
   ]
  },
  {
   "cell_type": "code",
   "execution_count": 143,
   "metadata": {},
   "outputs": [
    {
     "data": {
      "text/html": [
       "<div>\n",
       "<style scoped>\n",
       "    .dataframe tbody tr th:only-of-type {\n",
       "        vertical-align: middle;\n",
       "    }\n",
       "\n",
       "    .dataframe tbody tr th {\n",
       "        vertical-align: top;\n",
       "    }\n",
       "\n",
       "    .dataframe thead th {\n",
       "        text-align: right;\n",
       "    }\n",
       "</style>\n",
       "<table border=\"1\" class=\"dataframe\">\n",
       "  <thead>\n",
       "    <tr style=\"text-align: right;\">\n",
       "      <th></th>\n",
       "      <th>FRDate</th>\n",
       "      <th>SRDate</th>\n",
       "      <th>Days Delta</th>\n",
       "    </tr>\n",
       "  </thead>\n",
       "  <tbody>\n",
       "    <tr>\n",
       "      <td>7990</td>\n",
       "      <td>2007-12-22</td>\n",
       "      <td>2016-10-02</td>\n",
       "      <td>3207.0</td>\n",
       "    </tr>\n",
       "  </tbody>\n",
       "</table>\n",
       "</div>"
      ],
      "text/plain": [
       "         FRDate     SRDate  Days Delta\n",
       "7990 2007-12-22 2016-10-02      3207.0"
      ]
     },
     "execution_count": 143,
     "metadata": {},
     "output_type": "execute_result"
    }
   ],
   "source": [
    "# Подготовка датафрейма дат отзывов. Для этого вытащим списки дат из строк отзывов столбца Reviews\n",
    "# По наблюдению, дата первого отзыва находится на второй позиции, второго - на первой позиции\n",
    "# Каждый элемент списка кладем в свой Series, объединяем в датафрем, переводим в тип datetime\n",
    "\n",
    "reviews = data.loc[:, 'Reviews']\n",
    "reviews_dates = reviews.apply(lambda x: get_dates(x))\n",
    "\n",
    "dates_df = pd.concat([pd.Series([date[1] for date in reviews_dates]),\n",
    "                      pd.Series([date[0] for date in reviews_dates])], axis=1)\n",
    "\n",
    "dates_df.columns = ['FRDate', 'SRDate']\n",
    "dates_df['FRDate'] = pd.to_datetime(dates_df['FRDate'])\n",
    "dates_df['SRDate'] = pd.to_datetime(dates_df['SRDate'])\n",
    "\n",
    "# Вычисляем разницу по дням между отзывами, пропуски для наблюдений, у которых нет отзывов и дат, заполним нулями \n",
    "dates_df['Days Delta'] = dates_df['SRDate'] - dates_df['FRDate']\n",
    "dates_df['Days Delta'] = dates_df['Days Delta'].apply(lambda x: x.days)\n",
    "dates_df['Days Delta'].fillna(0, inplace=True)\n",
    "dates_df[dates_df['Days Delta'] == dates_df['Days Delta'].max()]"
   ]
  },
  {
   "cell_type": "code",
   "execution_count": 144,
   "metadata": {},
   "outputs": [
    {
     "name": "stdout",
     "output_type": "stream",
     "text": [
      "2018-02-26 00:00:00 2018-02-26 00:00:00\n"
     ]
    }
   ],
   "source": [
    "# Когда был оставлен самый свежий отзыв?\n",
    "print(dates_df['FRDate'].max(), dates_df['SRDate'].max())"
   ]
  },
  {
   "cell_type": "markdown",
   "metadata": {
    "collapsed": true
   },
   "source": [
    "Итак, наполним основной датафрейм данными. Для начала попробуем сделать запрос на сайт TripAdvisor и для ресторанов, у которых нет ценового диапазона, получить его. Тоже самое сделаем для типов кухонь."
   ]
  },
  {
   "cell_type": "code",
   "execution_count": null,
   "metadata": {
    "scrolled": true
   },
   "outputs": [],
   "source": [
    "%timeit\n",
    "t_df = data.copy()\n",
    "pr = get_price_range_from_site(t_df)"
   ]
  },
  {
   "cell_type": "code",
   "execution_count": null,
   "metadata": {
    "scrolled": true
   },
   "outputs": [],
   "source": [
    "cs = get_additioinal_cuisines(t_df, all_cuisines)"
   ]
  },
  {
   "cell_type": "code",
   "execution_count": null,
   "metadata": {},
   "outputs": [],
   "source": [
    "pr.to_csv('additional_price_ranges.csv')\n",
    "cs.to_csv('additional_cuisines.csv')"
   ]
  },
  {
   "cell_type": "code",
   "execution_count": 146,
   "metadata": {},
   "outputs": [],
   "source": [
    "prs = pd.read_csv('additional_price_ranges.csv', index_col=0, header=None)\n",
    "css = pd.read_csv('additional_cuisines.csv', index_col=0, header=None)"
   ]
  },
  {
   "cell_type": "code",
   "execution_count": 263,
   "metadata": {},
   "outputs": [],
   "source": [
    "data['Price Range'].fillna(prs.iloc[:, 0], inplace=True)\n",
    "data['Cuisine Style'].fillna(css.iloc[:, 0], inplace=True)"
   ]
  },
  {
   "cell_type": "code",
   "execution_count": 414,
   "metadata": {},
   "outputs": [
    {
     "data": {
      "text/plain": [
       "$$ - $$$    3600\n",
       "$           2711\n",
       "$$$$         135\n",
       "Name: 1, dtype: int64"
      ]
     },
     "execution_count": 414,
     "metadata": {},
     "output_type": "execute_result"
    }
   ],
   "source": [
    "# Удалось получить данные ценовых диапазонов для 6446 ресторанов\n",
    "prs.iloc[:, 0].value_counts()"
   ]
  },
  {
   "cell_type": "code",
   "execution_count": 417,
   "metadata": {},
   "outputs": [
    {
     "data": {
      "text/plain": [
       "4673"
      ]
     },
     "execution_count": 417,
     "metadata": {},
     "output_type": "execute_result"
    }
   ],
   "source": [
    "# Удалось получить данные типов кухонь для 4673 ресторанов\n",
    "css.iloc[:, 0].count()"
   ]
  },
  {
   "cell_type": "markdown",
   "metadata": {},
   "source": [
    "Подготовим признаки:\n",
    "1. Capital - является ли город столицей\n",
    "2. Top Country - Ресторан в городе, страна которого в топе по туристической посещаемости\n",
    "3. Population - количество жителей города\n",
    "4. Arrivals_17 - количество туристов, посетивших город за 2017 год (пропущенные значения заполнены медианой)\n",
    "5. Arrivals_18 - тоже самое, что и Arrivals_17, но за 2018 год\n",
    "6. Cuisine Count - количество кухонь, подаваемое в ресторане\n",
    "7. Cuisine Mean - среднее количество кухонь для одного ресторана\n",
    "8. Days Delta - разность в днях между отзывами, пропущенные значения заполнил нулями"
   ]
  },
  {
   "cell_type": "code",
   "execution_count": 264,
   "metadata": {},
   "outputs": [],
   "source": [
    "data['Capital'] = data['City'].apply(is_restaurant_in_capital)\n",
    "data['Top Country'] = data['City'].apply(is_city_of_top_tourism_country)\n",
    "data['Population'] = data['City'].apply(lambda x: POPULATION[x])\n",
    "\n",
    "data['Arrivals_17'] = data['City'].apply(lambda x: ARRIVALS_17[x])\n",
    "data['Arrivals_18'] = data['City'].apply(lambda x: ARRIVALS_18[x])\n",
    "data['Arrivals_17'].fillna(data['Arrivals_17'].median(), inplace=True)\n",
    "data['Arrivals_18'].fillna(data['Arrivals_18'].median(), inplace=True)\n",
    "\n",
    "# Пропущенные значения заполнены средним количеством отзывов для конкретного города\n",
    "data['Number of Reviews'].fillna(mean_number_of_reviews_per_city(data), inplace=True)\n",
    "\n",
    "# Пропуски заполнены типами кухонь, описанными в ADDITIONAL_CUISINES\n",
    "adds_cuisines = data[data['Cuisine Style'].isnull()]['Cuisine Style'].fillna(data['City']).apply(lambda x: ADDITIONAL_CUISINES[x])\n",
    "data['Cuisine Style'].fillna(adds_cuisines, inplace=True)\n",
    "data['Cuisine Style'] = data['Cuisine Style'].apply(lambda x: cuisines_to_list(x))\n",
    "\n",
    "data['Cuisine Count'] = data['Cuisine Style'].apply(lambda l: len(l))\n",
    "data['Cuisine Mean'] = data['Cuisine Count'] / len(all_cuisines)\n",
    "\n",
    "# Price Range - не категориальный признак, поэтому поставим в соответствие каждому диапазону число, пропуски заполнены нулями\n",
    "data['Price Range'] = data['Price Range'].apply(price_range_to_number)\n",
    "data['Days Delta'] = dates_df['Days Delta']"
   ]
  },
  {
   "cell_type": "code",
   "execution_count": 159,
   "metadata": {},
   "outputs": [
    {
     "data": {
      "text/html": [
       "<div>\n",
       "<style scoped>\n",
       "    .dataframe tbody tr th:only-of-type {\n",
       "        vertical-align: middle;\n",
       "    }\n",
       "\n",
       "    .dataframe tbody tr th {\n",
       "        vertical-align: top;\n",
       "    }\n",
       "\n",
       "    .dataframe thead th {\n",
       "        text-align: right;\n",
       "    }\n",
       "</style>\n",
       "<table border=\"1\" class=\"dataframe\">\n",
       "  <thead>\n",
       "    <tr style=\"text-align: right;\">\n",
       "      <th></th>\n",
       "      <th>Restaurant_id</th>\n",
       "      <th>City</th>\n",
       "      <th>Cuisine Style</th>\n",
       "      <th>Ranking</th>\n",
       "      <th>Rating</th>\n",
       "      <th>Price Range</th>\n",
       "      <th>Number of Reviews</th>\n",
       "      <th>Reviews</th>\n",
       "      <th>URL_TA</th>\n",
       "      <th>ID_TA</th>\n",
       "      <th>Capital</th>\n",
       "      <th>Top Country</th>\n",
       "      <th>Population</th>\n",
       "      <th>Arrivals_17</th>\n",
       "      <th>Arrivals_18</th>\n",
       "      <th>Cuisine Count</th>\n",
       "      <th>Cuisine Mean</th>\n",
       "      <th>Days Delta</th>\n",
       "    </tr>\n",
       "  </thead>\n",
       "  <tbody>\n",
       "    <tr>\n",
       "      <td>0</td>\n",
       "      <td>id_5569</td>\n",
       "      <td>Paris</td>\n",
       "      <td>[European, French, International]</td>\n",
       "      <td>5570.0</td>\n",
       "      <td>3.5</td>\n",
       "      <td>2</td>\n",
       "      <td>194.0</td>\n",
       "      <td>[['Good food at your doorstep', 'A good hotel ...</td>\n",
       "      <td>/Restaurant_Review-g187147-d1912643-Reviews-R_...</td>\n",
       "      <td>d1912643</td>\n",
       "      <td>1</td>\n",
       "      <td>1</td>\n",
       "      <td>2190</td>\n",
       "      <td>15834.2</td>\n",
       "      <td>17560.2</td>\n",
       "      <td>3</td>\n",
       "      <td>1.000000</td>\n",
       "      <td>41.0</td>\n",
       "    </tr>\n",
       "    <tr>\n",
       "      <td>1</td>\n",
       "      <td>id_1535</td>\n",
       "      <td>Stockholm</td>\n",
       "      <td>[Asian, Nepali]</td>\n",
       "      <td>1537.0</td>\n",
       "      <td>4.0</td>\n",
       "      <td>2</td>\n",
       "      <td>10.0</td>\n",
       "      <td>[['Unique cuisine', 'Delicious Nepalese food']...</td>\n",
       "      <td>/Restaurant_Review-g189852-d7992032-Reviews-Bu...</td>\n",
       "      <td>d7992032</td>\n",
       "      <td>1</td>\n",
       "      <td>0</td>\n",
       "      <td>961</td>\n",
       "      <td>2473.5</td>\n",
       "      <td>2604.6</td>\n",
       "      <td>2</td>\n",
       "      <td>0.666667</td>\n",
       "      <td>382.0</td>\n",
       "    </tr>\n",
       "    <tr>\n",
       "      <td>2</td>\n",
       "      <td>id_352</td>\n",
       "      <td>London</td>\n",
       "      <td>[Japanese, Sushi, Asian, Grill, Vegetarian Fri...</td>\n",
       "      <td>353.0</td>\n",
       "      <td>4.5</td>\n",
       "      <td>3</td>\n",
       "      <td>688.0</td>\n",
       "      <td>[['Catch up with friends', 'Not exceptional'],...</td>\n",
       "      <td>/Restaurant_Review-g186338-d8632781-Reviews-RO...</td>\n",
       "      <td>d8632781</td>\n",
       "      <td>1</td>\n",
       "      <td>1</td>\n",
       "      <td>8908</td>\n",
       "      <td>19828.0</td>\n",
       "      <td>19233.0</td>\n",
       "      <td>7</td>\n",
       "      <td>2.333333</td>\n",
       "      <td>2.0</td>\n",
       "    </tr>\n",
       "    <tr>\n",
       "      <td>3</td>\n",
       "      <td>id_3456</td>\n",
       "      <td>Berlin</td>\n",
       "      <td>[German]</td>\n",
       "      <td>3458.0</td>\n",
       "      <td>5.0</td>\n",
       "      <td>0</td>\n",
       "      <td>3.0</td>\n",
       "      <td>[[], []]</td>\n",
       "      <td>/Restaurant_Review-g187323-d1358776-Reviews-Es...</td>\n",
       "      <td>d1358776</td>\n",
       "      <td>1</td>\n",
       "      <td>1</td>\n",
       "      <td>3645</td>\n",
       "      <td>5627.4</td>\n",
       "      <td>5959.4</td>\n",
       "      <td>1</td>\n",
       "      <td>0.333333</td>\n",
       "      <td>0.0</td>\n",
       "    </tr>\n",
       "    <tr>\n",
       "      <td>4</td>\n",
       "      <td>id_615</td>\n",
       "      <td>Munich</td>\n",
       "      <td>[German, Central European, Vegetarian Friendly]</td>\n",
       "      <td>621.0</td>\n",
       "      <td>4.0</td>\n",
       "      <td>2</td>\n",
       "      <td>84.0</td>\n",
       "      <td>[['Best place to try a Bavarian food', 'Nice b...</td>\n",
       "      <td>/Restaurant_Review-g187309-d6864963-Reviews-Au...</td>\n",
       "      <td>d6864963</td>\n",
       "      <td>0</td>\n",
       "      <td>1</td>\n",
       "      <td>1471</td>\n",
       "      <td>3829.2</td>\n",
       "      <td>4066.6</td>\n",
       "      <td>3</td>\n",
       "      <td>1.000000</td>\n",
       "      <td>272.0</td>\n",
       "    </tr>\n",
       "    <tr>\n",
       "      <td>5</td>\n",
       "      <td>id_1418</td>\n",
       "      <td>Oporto</td>\n",
       "      <td>[European, Bar, Portuguese]</td>\n",
       "      <td>1419.0</td>\n",
       "      <td>3.0</td>\n",
       "      <td>2</td>\n",
       "      <td>2.0</td>\n",
       "      <td>[['There are better 3 star hotel bars', 'Amazi...</td>\n",
       "      <td>/Restaurant_Review-g189180-d12503536-Reviews-D...</td>\n",
       "      <td>d12503536</td>\n",
       "      <td>0</td>\n",
       "      <td>1</td>\n",
       "      <td>237</td>\n",
       "      <td>2232.5</td>\n",
       "      <td>2341.3</td>\n",
       "      <td>3</td>\n",
       "      <td>1.000000</td>\n",
       "      <td>108.0</td>\n",
       "    </tr>\n",
       "    <tr>\n",
       "      <td>6</td>\n",
       "      <td>id_1720</td>\n",
       "      <td>Milan</td>\n",
       "      <td>[Italian, Pizza]</td>\n",
       "      <td>1722.0</td>\n",
       "      <td>4.0</td>\n",
       "      <td>1</td>\n",
       "      <td>50.0</td>\n",
       "      <td>[['Excellent simple local eatery.', 'Excellent...</td>\n",
       "      <td>/Restaurant_Review-g187849-d5808504-Reviews-Pi...</td>\n",
       "      <td>d5808504</td>\n",
       "      <td>0</td>\n",
       "      <td>1</td>\n",
       "      <td>1378</td>\n",
       "      <td>6347.9</td>\n",
       "      <td>6481.3</td>\n",
       "      <td>2</td>\n",
       "      <td>0.666667</td>\n",
       "      <td>-93.0</td>\n",
       "    </tr>\n",
       "    <tr>\n",
       "      <td>7</td>\n",
       "      <td>id_825</td>\n",
       "      <td>Bratislava</td>\n",
       "      <td>[Italian]</td>\n",
       "      <td>826.0</td>\n",
       "      <td>3.0</td>\n",
       "      <td>0</td>\n",
       "      <td>9.0</td>\n",
       "      <td>[['Wasting of money', 'excellent cuisine'], ['...</td>\n",
       "      <td>/Restaurant_Review-g274924-d3199765-Reviews-Ri...</td>\n",
       "      <td>d3199765</td>\n",
       "      <td>1</td>\n",
       "      <td>0</td>\n",
       "      <td>426</td>\n",
       "      <td>6288.9</td>\n",
       "      <td>6714.5</td>\n",
       "      <td>1</td>\n",
       "      <td>0.333333</td>\n",
       "      <td>613.0</td>\n",
       "    </tr>\n",
       "    <tr>\n",
       "      <td>8</td>\n",
       "      <td>id_2690</td>\n",
       "      <td>Vienna</td>\n",
       "      <td>[European, Cafe]</td>\n",
       "      <td>2692.0</td>\n",
       "      <td>4.0</td>\n",
       "      <td>0</td>\n",
       "      <td>83.0</td>\n",
       "      <td>[[], []]</td>\n",
       "      <td>/Restaurant_Review-g190454-d12845029-Reviews-G...</td>\n",
       "      <td>d12845029</td>\n",
       "      <td>1</td>\n",
       "      <td>1</td>\n",
       "      <td>1897</td>\n",
       "      <td>6186.4</td>\n",
       "      <td>6410.3</td>\n",
       "      <td>2</td>\n",
       "      <td>0.666667</td>\n",
       "      <td>0.0</td>\n",
       "    </tr>\n",
       "    <tr>\n",
       "      <td>9</td>\n",
       "      <td>id_4209</td>\n",
       "      <td>Rome</td>\n",
       "      <td>[Italian, Pizza, Fast Food]</td>\n",
       "      <td>4210.0</td>\n",
       "      <td>4.0</td>\n",
       "      <td>1</td>\n",
       "      <td>55.0</td>\n",
       "      <td>[['Clean efficient staff', 'Nice little pizza ...</td>\n",
       "      <td>/Restaurant_Review-g187791-d8020681-Reviews-Qu...</td>\n",
       "      <td>d8020681</td>\n",
       "      <td>1</td>\n",
       "      <td>1</td>\n",
       "      <td>2876</td>\n",
       "      <td>9531.6</td>\n",
       "      <td>10065.4</td>\n",
       "      <td>3</td>\n",
       "      <td>1.000000</td>\n",
       "      <td>225.0</td>\n",
       "    </tr>\n",
       "  </tbody>\n",
       "</table>\n",
       "</div>"
      ],
      "text/plain": [
       "  Restaurant_id        City  \\\n",
       "0       id_5569       Paris   \n",
       "1       id_1535   Stockholm   \n",
       "2        id_352      London   \n",
       "3       id_3456      Berlin   \n",
       "4        id_615      Munich   \n",
       "5       id_1418      Oporto   \n",
       "6       id_1720       Milan   \n",
       "7        id_825  Bratislava   \n",
       "8       id_2690      Vienna   \n",
       "9       id_4209        Rome   \n",
       "\n",
       "                                       Cuisine Style  Ranking  Rating  \\\n",
       "0                  [European, French, International]   5570.0     3.5   \n",
       "1                                    [Asian, Nepali]   1537.0     4.0   \n",
       "2  [Japanese, Sushi, Asian, Grill, Vegetarian Fri...    353.0     4.5   \n",
       "3                                           [German]   3458.0     5.0   \n",
       "4    [German, Central European, Vegetarian Friendly]    621.0     4.0   \n",
       "5                        [European, Bar, Portuguese]   1419.0     3.0   \n",
       "6                                   [Italian, Pizza]   1722.0     4.0   \n",
       "7                                          [Italian]    826.0     3.0   \n",
       "8                                   [European, Cafe]   2692.0     4.0   \n",
       "9                        [Italian, Pizza, Fast Food]   4210.0     4.0   \n",
       "\n",
       "   Price Range  Number of Reviews  \\\n",
       "0            2              194.0   \n",
       "1            2               10.0   \n",
       "2            3              688.0   \n",
       "3            0                3.0   \n",
       "4            2               84.0   \n",
       "5            2                2.0   \n",
       "6            1               50.0   \n",
       "7            0                9.0   \n",
       "8            0               83.0   \n",
       "9            1               55.0   \n",
       "\n",
       "                                             Reviews  \\\n",
       "0  [['Good food at your doorstep', 'A good hotel ...   \n",
       "1  [['Unique cuisine', 'Delicious Nepalese food']...   \n",
       "2  [['Catch up with friends', 'Not exceptional'],...   \n",
       "3                                           [[], []]   \n",
       "4  [['Best place to try a Bavarian food', 'Nice b...   \n",
       "5  [['There are better 3 star hotel bars', 'Amazi...   \n",
       "6  [['Excellent simple local eatery.', 'Excellent...   \n",
       "7  [['Wasting of money', 'excellent cuisine'], ['...   \n",
       "8                                           [[], []]   \n",
       "9  [['Clean efficient staff', 'Nice little pizza ...   \n",
       "\n",
       "                                              URL_TA      ID_TA  Capital  \\\n",
       "0  /Restaurant_Review-g187147-d1912643-Reviews-R_...   d1912643        1   \n",
       "1  /Restaurant_Review-g189852-d7992032-Reviews-Bu...   d7992032        1   \n",
       "2  /Restaurant_Review-g186338-d8632781-Reviews-RO...   d8632781        1   \n",
       "3  /Restaurant_Review-g187323-d1358776-Reviews-Es...   d1358776        1   \n",
       "4  /Restaurant_Review-g187309-d6864963-Reviews-Au...   d6864963        0   \n",
       "5  /Restaurant_Review-g189180-d12503536-Reviews-D...  d12503536        0   \n",
       "6  /Restaurant_Review-g187849-d5808504-Reviews-Pi...   d5808504        0   \n",
       "7  /Restaurant_Review-g274924-d3199765-Reviews-Ri...   d3199765        1   \n",
       "8  /Restaurant_Review-g190454-d12845029-Reviews-G...  d12845029        1   \n",
       "9  /Restaurant_Review-g187791-d8020681-Reviews-Qu...   d8020681        1   \n",
       "\n",
       "   Top Country  Population  Arrivals_17  Arrivals_18  Cuisine Count  \\\n",
       "0            1        2190      15834.2      17560.2              3   \n",
       "1            0         961       2473.5       2604.6              2   \n",
       "2            1        8908      19828.0      19233.0              7   \n",
       "3            1        3645       5627.4       5959.4              1   \n",
       "4            1        1471       3829.2       4066.6              3   \n",
       "5            1         237       2232.5       2341.3              3   \n",
       "6            1        1378       6347.9       6481.3              2   \n",
       "7            0         426       6288.9       6714.5              1   \n",
       "8            1        1897       6186.4       6410.3              2   \n",
       "9            1        2876       9531.6      10065.4              3   \n",
       "\n",
       "   Cuisine Mean  Days Delta  \n",
       "0      1.000000        41.0  \n",
       "1      0.666667       382.0  \n",
       "2      2.333333         2.0  \n",
       "3      0.333333         0.0  \n",
       "4      1.000000       272.0  \n",
       "5      1.000000       108.0  \n",
       "6      0.666667       -93.0  \n",
       "7      0.333333       613.0  \n",
       "8      0.666667         0.0  \n",
       "9      1.000000       225.0  "
      ]
     },
     "execution_count": 159,
     "metadata": {},
     "output_type": "execute_result"
    }
   ],
   "source": [
    "data.head(10)"
   ]
  },
  {
   "cell_type": "code",
   "execution_count": 357,
   "metadata": {},
   "outputs": [
    {
     "name": "stdout",
     "output_type": "stream",
     "text": [
      "MAE: 0.21302749999999995\n"
     ]
    }
   ],
   "source": [
    "X = data.drop(labels=['Restaurant_id','City','Cuisine Style','Reviews','URL_TA','ID_TA','Rating'], axis=1)\n",
    "y = data['Rating']\n",
    "\n",
    "MAE(X, y)"
   ]
  },
  {
   "cell_type": "markdown",
   "metadata": {},
   "source": [
    "## Dummies "
   ]
  },
  {
   "cell_type": "markdown",
   "metadata": {},
   "source": [
    "В качестве dummy переменных используем типы кухонь. Добавится 125 новых столбцов"
   ]
  },
  {
   "cell_type": "code",
   "execution_count": 286,
   "metadata": {},
   "outputs": [],
   "source": [
    "for item in all_cuisines:\n",
    "    data[item] = data['Cuisine Style'].apply(lambda l: 1 if item in l else 0)"
   ]
  },
  {
   "cell_type": "markdown",
   "metadata": {},
   "source": [
    "Попробуем применить примитивный анализ эмоционального окраса отзыва. Здесь возьмем список позитивных слов <link>https://www.enchantedlearning.com/wordlist/positivewords.shtml</link>. Здесь <link>https://www.enchantedlearning.com/wordlist/negativewords.shtml</link> - негативных. Их много, поэтому возьму по 30 слов каждой категории. Для каждого слова будем смотреть, есть ли оно в отзывах. Эта процедура добавить в датасет 120 столбцов"
   ]
  },
  {
   "cell_type": "code",
   "execution_count": 491,
   "metadata": {},
   "outputs": [],
   "source": [
    "POSITIVE_WORDS = 'amazing awesome beautiful bravo brilliant bubbly charming cheery clean cool creative cute easy excellent exciting fabulous familiar famous fantastic favorable fetching fine fortunate free fresh friendly fun funny generous genius good graceful great handsome happy honest ideal imaginative imagine impressive light lovely natural nice perfect pleasant pleasurable plentiful popular positive pretty proud super surprising terrific unreal well wonderful wow yummy'.split()\n",
    "NEGATIVE_WORDS = 'adverse alarming angry annoy awful bad banal boring confused crazy cruel cry cutting damage deny dirty disease disgusting distress evil fail faulty fear fight filthy foul harmful hate horrible hostile hurt ignore ill impossible lose lousy missing negative nonsense not pain poor sad scare scary scream shocking sick smelly sticky stinky stuck stupid terrible ugly unpleasant unwelcome upset wary yell'.split()"
   ]
  },
  {
   "cell_type": "code",
   "execution_count": 596,
   "metadata": {},
   "outputs": [],
   "source": [
    "for word in POSITIVE_WORDS:\n",
    "    data[word] = data['Reviews'].apply(lambda s: 1 if word in s.lower() else 0)\n",
    "    \n",
    "for word in NEGATIVE_WORDS:\n",
    "    data[word] = data['Reviews'].apply(lambda s: 1 if word in s.lower() else 0)"
   ]
  },
  {
   "cell_type": "code",
   "execution_count": 400,
   "metadata": {},
   "outputs": [
    {
     "name": "stdout",
     "output_type": "stream",
     "text": [
      "MAE: 0.21433199999999997\n"
     ]
    }
   ],
   "source": [
    "X = data.drop(labels=['Restaurant_id','City','Cuisine Style','Reviews','URL_TA','ID_TA','Rating'], axis=1)\n",
    "y = data['Rating']\n",
    "\n",
    "MAE(X, y)"
   ]
  },
  {
   "cell_type": "markdown",
   "metadata": {},
   "source": [
    "В ячейке выше добавление признаков по каждой кухне и признаков позитивных и негативных слов немного ухудшило метрику"
   ]
  },
  {
   "cell_type": "code",
   "execution_count": 407,
   "metadata": {},
   "outputs": [
    {
     "name": "stdout",
     "output_type": "stream",
     "text": [
      "MAE: 0.21200649999999996\n"
     ]
    }
   ],
   "source": [
    "# Здесь используется датафрейм только с признаками по каждой кухне, без признаков слов\n",
    "X = data.drop(labels=['Restaurant_id','City','Cuisine Style','Reviews','URL_TA','ID_TA','Rating'], axis=1)\n",
    "y = data['Rating']\n",
    "\n",
    "MAE(X, y)"
   ]
  },
  {
   "cell_type": "markdown",
   "metadata": {},
   "source": [
    "В ячейке выше, использование только признаков по каждой кухне немного улучшило метрику"
   ]
  },
  {
   "cell_type": "markdown",
   "metadata": {},
   "source": [
    "## Попробуем еще поиграться с признаками "
   ]
  },
  {
   "cell_type": "code",
   "execution_count": 265,
   "metadata": {},
   "outputs": [],
   "source": [
    "data['Arrival Growth'] = round((data['Arrivals_18'] - data['Arrivals_17']) / data['Arrivals_17'] * 100, 1)"
   ]
  },
  {
   "cell_type": "markdown",
   "metadata": {},
   "source": [
    "Согласно сайту https://www.tasteatlas.com/most-popular-food-in-the-world первые два самых популярных блюда в мире - пицца и суши. Эти блюда есть у нас в списке, можно попробовать сделать два признака и таким образом определить, подает ли ресторан эти блюда"
   ]
  },
  {
   "cell_type": "code",
   "execution_count": 266,
   "metadata": {},
   "outputs": [],
   "source": [
    "def most_popular_food_in_menu(cuisines):\n",
    "    pizza = cuisines.count('Pizza')\n",
    "    sushi = cuisines.count('Sushi')\n",
    "    \n",
    "    if pizza == 0 and sushi == 0:\n",
    "        return 0\n",
    "    \n",
    "    if pizza == 1 and sushi == 1:\n",
    "        return 2\n",
    "    \n",
    "    return 1"
   ]
  },
  {
   "cell_type": "code",
   "execution_count": 267,
   "metadata": {},
   "outputs": [],
   "source": [
    "data['Pizza and Sushi'] = data['Cuisine Style'].apply(most_popular_food_in_menu)"
   ]
  },
  {
   "cell_type": "code",
   "execution_count": 287,
   "metadata": {},
   "outputs": [],
   "source": [
    "for city in CITIES:\n",
    "    data[city] = (data['City'] == city).astype(int)"
   ]
  },
  {
   "cell_type": "code",
   "execution_count": 600,
   "metadata": {},
   "outputs": [],
   "source": [
    "data.drop(labels = POSITIVE_WORDS + NEGATIVE_WORDS, axis=1, inplace=True)"
   ]
  },
  {
   "cell_type": "code",
   "execution_count": 489,
   "metadata": {},
   "outputs": [
    {
     "name": "stdout",
     "output_type": "stream",
     "text": [
      "MAE: 0.2068295\n"
     ]
    }
   ],
   "source": [
    "X = data.drop(labels=['Restaurant_id','City','Cuisine Style','Reviews','URL_TA','ID_TA','Rating'], axis=1)\n",
    "y = data['Rating']\n",
    "\n",
    "MAE(X, y)"
   ]
  },
  {
   "cell_type": "code",
   "execution_count": 549,
   "metadata": {},
   "outputs": [
    {
     "name": "stdout",
     "output_type": "stream",
     "text": [
      "MAE: 0.2104435\n"
     ]
    }
   ],
   "source": [
    "X = data.drop(labels=['Restaurant_id','City','Cuisine Style','Reviews','URL_TA','ID_TA','Rating'], axis=1)\n",
    "y = data['Rating']\n",
    "\n",
    "MAE(X, y)"
   ]
  },
  {
   "cell_type": "code",
   "execution_count": 547,
   "metadata": {},
   "outputs": [],
   "source": [
    "data['FR_year'] = dates_df['FRDate'].apply(lambda d: d.year).fillna(0).astype(int)\n",
    "data['FR_month'] = dates_df['FRDate'].apply(lambda d: d.month).fillna(0).astype(int)\n",
    "data['FR_day'] = dates_df['FRDate'].apply(lambda d: d.day).fillna(0).astype(int)\n",
    "\n",
    "data['SR_year'] = dates_df['SRDate'].apply(lambda d: d.year).fillna(0).astype(int)\n",
    "data['SR_month'] = dates_df['SRDate'].apply(lambda d: d.month).fillna(0).astype(int)\n",
    "data['SR_day'] = dates_df['SRDate'].apply(lambda d: d.day).fillna(0).astype(int)"
   ]
  },
  {
   "cell_type": "code",
   "execution_count": 550,
   "metadata": {},
   "outputs": [],
   "source": [
    "data.drop(labels=['FR_year','FR_month','FR_day','SR_year','SR_month','SR_day'], axis=1, inplace=True)"
   ]
  },
  {
   "cell_type": "code",
   "execution_count": 3,
   "metadata": {},
   "outputs": [],
   "source": [
    "def chunks(n, page_list):\n",
    "    return np.array_split(page_list, n)"
   ]
  },
  {
   "cell_type": "code",
   "execution_count": 1,
   "metadata": {},
   "outputs": [],
   "source": [
    "def get_extra_data(urls):\n",
    "    from random import randint\n",
    "    r_val = randint(10,100)\n",
    "    \n",
    "    SUBCATEGORIES = ['Food', 'Service', 'Value', 'Atmosphere']\n",
    "    COMMENTS_CAT = ['Excellent', 'Very good', 'Average', 'Poor', 'Terrible']\n",
    "    DETAILS = ['PRICE RANGE', 'CUISINES', 'SPECIAL DIETS', 'MEALS', 'FEATURES']\n",
    "    \n",
    "    results = []\n",
    "    \n",
    "    for url in urls:\n",
    "    \n",
    "        try:\n",
    "            response = requests.get(SITE + url)\n",
    "        except Exception as err:\n",
    "            print('Caught exception')\n",
    "            print(err)\n",
    "            results.append({'URL_TA': url, 'website': False, 'subratings': {}, 'comments': {}, 'adds_info': {}, 'comments_count': '0'})\n",
    "            continue\n",
    "\n",
    "        page = BeautifulSoup(response.text, 'html.parser')\n",
    "\n",
    "        # есть сайт или нет\n",
    "        website = page.find(class_='detail ui_link level_1')\n",
    "\n",
    "        # здесь разная инфа\n",
    "        adds_info = page.find_all('div', attrs={'class': 'restaurants-detail-overview-cards-DetailsSectionOverviewCard__detailsSummary--evhlS'})\n",
    "\n",
    "        # подрейтинги\n",
    "        subratings = page.find_all('div', attrs={'class': 'restaurants-detail-overview-cards-RatingsOverviewCard__ratingQuestionRow--5nPGK'})\n",
    "\n",
    "        # сколько оставили комментариев каждой категории\n",
    "        comments = page.find_all('div', attrs={'class': 'choices', 'data-name': 'ta_rating', 'data-param': 'trating'})\n",
    "\n",
    "        # обрабатываем инфу о сайте\n",
    "        if website is None:\n",
    "            website = False\n",
    "        elif website.text.lower() == 'website':\n",
    "            website = True\n",
    "\n",
    "        # обрабатываем подрейтинги\n",
    "        sbrs = dict.fromkeys(SUBCATEGORIES, 0)\n",
    "\n",
    "        if len(subratings) != 0:     \n",
    "            for element in subratings:\n",
    "                k = element.find('span', attrs={'class': 'restaurants-detail-overview-cards-RatingsOverviewCard__ratingText--1P1Lq'}).text\n",
    "                v = tst.find('span', attrs={'class': 'restaurants-detail-overview-cards-RatingsOverviewCard__ratingBubbles--1kQYC'}).span['class'][1][-2:]\n",
    "                v = int(v) / 10\n",
    "                sbrs[k] = v\n",
    "\n",
    "        # обрабатываем количество комментариев по оценкам\n",
    "        comms = dict.fromkeys(COMMENTS_CAT, 0)\n",
    "\n",
    "        if len(comments) != 0:\n",
    "            tags = [t.text for t in comments[0].find_all('label', attrs={'class': 'row_label label'})]\n",
    "            scores = [s.text for s in comments[0].find_all('span', attrs={'class': 'row_num is-shown-at-tablet'})]\n",
    "\n",
    "            for tag, score in zip(tags, scores):\n",
    "                comms[tag] = score\n",
    "\n",
    "        # обрабатываем дополнительную инфу\n",
    "        adds = dict.fromkeys(DETAILS, None)\n",
    "\n",
    "        if len(adds_info) != 0:\n",
    "            temp = adds_info[0].find_all('div', attrs={'class': 'restaurants-detail-overview-cards-DetailsSectionOverviewCard__categoryTitle--2RJP_'})\n",
    "            tags = [t.text.upper() for t in temp]\n",
    "            values = [v.next_sibling.text for v in temp]\n",
    "\n",
    "            for tag, value in zip(tags, values):\n",
    "                adds[tag] = value\n",
    "                \n",
    "        meals = soup.find_all('div', text='Meals')\n",
    "        if len(meals) != 0:\n",
    "            adds['MEALS'] = meals[0].next_sibling.text\n",
    "            \n",
    "        features = soup.find_all('div', text='FEATURES')\n",
    "        if len(features) != 0:\n",
    "            adds['FEATURES'] = features[0].next_sibling.text\n",
    "                \n",
    "        # обрабатываем общее количество комментов\n",
    "        comms_count = soup.find('span', attrs={'class': 'reviews_header_count'})\n",
    "        if comms_count is not None:\n",
    "            comms_count = int(comms_count.text[1:-1])\n",
    "        else:\n",
    "            comms_count = 0\n",
    "\n",
    "        # добавляем в список\n",
    "        results.append({'URL_TA': url, 'website': website, 'subratings': sbrs, 'comments': comms, 'adds_info': adds, 'comments_count': comms_count})\n",
    "    \n",
    "    #file_name = multi.current_process().name+'.txt'\n",
    "    file_name = str(r_val) + '.txt'\n",
    "    with open(file_name, 'w') as f:\n",
    "        f.write(results)\n",
    "    #return results"
   ]
  },
  {
   "cell_type": "code",
   "execution_count": null,
   "metadata": {},
   "outputs": [],
   "source": [
    "sites = chunks(4, data['URL_TA'].values)\n",
    "sites"
   ]
  },
  {
   "cell_type": "code",
   "execution_count": 6,
   "metadata": {},
   "outputs": [],
   "source": [
    "if __name__ ==  '__main__':\n",
    "    pool = multi.Pool(processes=4)\n",
    "    pool.map(extra.get_extra_data, sites)\n",
    "    pool.close()\n",
    "    pool.join()"
   ]
  },
  {
   "cell_type": "code",
   "execution_count": 38,
   "metadata": {},
   "outputs": [],
   "source": [
    "with open('Restaurant_Review-g187147-d1912643-Reviews-R_Yves-Paris_Ile_de_France.json', 'r') as f_1:\n",
    "    extra_data_1 = json.load(f_1)\n",
    "    \n",
    "with open('Restaurant_Review-g187323-d4156716-Reviews-Ajanta-Berlin.json', 'r') as f_2:\n",
    "    extra_data_2 = json.load(f_2)\n",
    "    \n",
    "with open('Restaurant_Review-g187514-d1115902-Reviews-El_Rey_de_Tallarines-Madrid.json', 'r') as f_3:\n",
    "    extra_data_3 = json.load(f_3)\n",
    "    \n",
    "with open('Restaurant_Review-g189541-d11772660-Reviews-Mangia_Bar_Ristorante-Copenhagen_Zealand.json', 'r') as f_4:\n",
    "    extra_data_4 = json.load(f_4)    "
   ]
  },
  {
   "cell_type": "code",
   "execution_count": 100,
   "metadata": {},
   "outputs": [],
   "source": [
    "extra_df = pd.concat([pd.DataFrame(extra_data_1), \n",
    "                      pd.DataFrame(extra_data_2), \n",
    "                      pd.DataFrame(extra_data_3), \n",
    "                      pd.DataFrame(extra_data_4)],\n",
    "                    ignore_index=True)"
   ]
  },
  {
   "cell_type": "code",
   "execution_count": 101,
   "metadata": {},
   "outputs": [],
   "source": [
    "extra_df_temp = pd.DataFrame()"
   ]
  },
  {
   "cell_type": "code",
   "execution_count": 104,
   "metadata": {},
   "outputs": [],
   "source": [
    "for i in range(extra_df.shape[0]):\n",
    "    tst_0 = extra_df.iloc[i]\n",
    "    \n",
    "    for k, v in tst_0['subratings'].items():\n",
    "        tst_0['Subrating_' + k] = v\n",
    "    \n",
    "    for k, v in tst_0['comments'].items():\n",
    "        tst_0['Comments_' + k] = v\n",
    "    \n",
    "    for k, v in tst_0['awards'].items():\n",
    "        tst_0[k] = v\n",
    "    \n",
    "    for k, v in tst_0['adds_info'].items():\n",
    "        tst_0[k] = v\n",
    "        \n",
    "    extra_df_temp = extra_df_temp.append(tst_0)"
   ]
  },
  {
   "cell_type": "code",
   "execution_count": 242,
   "metadata": {},
   "outputs": [],
   "source": [
    "extra_df_tst = extra_df_temp"
   ]
  },
  {
   "cell_type": "code",
   "execution_count": 243,
   "metadata": {},
   "outputs": [],
   "source": [
    "extra_df_tst.replace('', np.nan, inplace=True)\n",
    "extra_df_tst['Comments_Excellent'] = extra_df_tst['Comments_Excellent'].str.replace(',', '')\n",
    "extra_df_tst['Comments_Very good'] = extra_df_tst['Comments_Very good'].str.replace(',', '')\n",
    "extra_df_tst['Comments_Average'] = extra_df_tst['Comments_Average'].str.replace(',', '')\n",
    "extra_df_tst['Comments_Poor'] = extra_df_tst['Comments_Poor'].str.replace(',', '')\n",
    "extra_df_tst['Comments_Terrible'] = extra_df_tst['Comments_Terrible'].str.replace(',', '')\n",
    "extra_df_tst['comments_count'] = extra_df_tst['comments_count'].str.replace(',', '')"
   ]
  },
  {
   "cell_type": "code",
   "execution_count": 244,
   "metadata": {},
   "outputs": [
    {
     "name": "stdout",
     "output_type": "stream",
     "text": [
      "<class 'pandas.core.frame.DataFrame'>\n",
      "Int64Index: 40000 entries, 0 to 39999\n",
      "Data columns (total 23 columns):\n",
      "AWARD                   11571 non-null object\n",
      "CUISINES                30511 non-null object\n",
      "Comments_Average        38326 non-null object\n",
      "Comments_Excellent      38326 non-null object\n",
      "Comments_Poor           38326 non-null object\n",
      "Comments_Terrible       38326 non-null object\n",
      "Comments_Very good      38326 non-null object\n",
      "FEATURES                11813 non-null object\n",
      "MEALS                   25634 non-null object\n",
      "PRICE RANGE             11135 non-null object\n",
      "SPECIAL DIETS           13957 non-null object\n",
      "Subrating_Atmosphere    39977 non-null float64\n",
      "Subrating_Food          39977 non-null float64\n",
      "Subrating_Service       39977 non-null float64\n",
      "Subrating_Value         39977 non-null float64\n",
      "URL_TA                  40000 non-null object\n",
      "YEARS                   11571 non-null object\n",
      "adds_info               40000 non-null object\n",
      "awards                  40000 non-null object\n",
      "comments                40000 non-null object\n",
      "comments_count          38542 non-null object\n",
      "subratings              40000 non-null object\n",
      "website                 40000 non-null float64\n",
      "dtypes: float64(5), object(18)\n",
      "memory usage: 7.3+ MB\n"
     ]
    }
   ],
   "source": [
    "extra_df_tst.info()"
   ]
  },
  {
   "cell_type": "code",
   "execution_count": 290,
   "metadata": {},
   "outputs": [],
   "source": [
    "df_to_merge = extra_df_tst[['URL_TA',\n",
    "                            'Comments_Excellent', \n",
    "                            'Comments_Very good', \n",
    "                            'Comments_Average', \n",
    "                            'Comments_Poor', \n",
    "                            'Comments_Terrible', \n",
    "                            'Subrating_Atmosphere', \n",
    "                            'Subrating_Food', \n",
    "                            'Subrating_Service', \n",
    "                            'Subrating_Value',\n",
    "                            'website',\n",
    "                            'comments_count']].fillna(0)\n",
    "\n",
    "df_to_merge = pd.concat([df_to_merge.URL_TA, df_to_merge.iloc[:,1:].apply(pd.to_numeric)], axis=1)"
   ]
  },
  {
   "cell_type": "code",
   "execution_count": 291,
   "metadata": {},
   "outputs": [],
   "source": [
    "data_common = pd.merge(data, df_to_merge, on='URL_TA')"
   ]
  },
  {
   "cell_type": "code",
   "execution_count": 292,
   "metadata": {},
   "outputs": [],
   "source": [
    "#data_common.iloc[40000:40039]\n",
    "data_common = data_common.drop(labels=list(range(40000, 40040)), axis=0)"
   ]
  },
  {
   "cell_type": "code",
   "execution_count": 293,
   "metadata": {},
   "outputs": [
    {
     "name": "stdout",
     "output_type": "stream",
     "text": [
      "<class 'pandas.core.frame.DataFrame'>\n",
      "Int64Index: 40000 entries, 0 to 39999\n",
      "Columns: 187 entries, Restaurant_id to comments_count\n",
      "dtypes: float64(13), int32(31), int64(137), object(6)\n",
      "memory usage: 52.6+ MB\n"
     ]
    }
   ],
   "source": [
    "data_common.info()"
   ]
  },
  {
   "cell_type": "code",
   "execution_count": 281,
   "metadata": {},
   "outputs": [
    {
     "data": {
      "text/plain": [
       "<matplotlib.axes._subplots.AxesSubplot at 0x1e52097a488>"
      ]
     },
     "execution_count": 281,
     "metadata": {},
     "output_type": "execute_result"
    },
    {
     "data": {
      "image/png": "[encoded data removed]",
      "text/plain": [
       "<Figure size 1296x648 with 2 Axes>"
      ]
     },
     "metadata": {
      "needs_background": "light"
     },
     "output_type": "display_data"
    }
   ],
   "source": [
    "plt.figure(figsize=(18,9))\n",
    "sns.heatmap(data_common.corr(), annot=True)"
   ]
  },
  {
   "cell_type": "code",
   "execution_count": 295,
   "metadata": {},
   "outputs": [
    {
     "name": "stdout",
     "output_type": "stream",
     "text": [
      "MAE: 0.22146349999999998\n"
     ]
    }
   ],
   "source": [
    "X = data_common.drop(labels=['Restaurant_id',\n",
    "                             'City',\n",
    "                             'Cuisine Style',\n",
    "                             'Reviews',\n",
    "                             'URL_TA',\n",
    "                             'ID_TA',\n",
    "                             'Rating',\n",
    "                             'Number of Reviews',\n",
    "                             'Arrivals_17',\n",
    "                             'Cuisine Mean',\n",
    "                             'Subrating_Food',\n",
    "                             'Subrating_Service',\n",
    "                             'Subrating_Value',\n",
    "                             'Comments_Very good', \n",
    "                             'Comments_Average', \n",
    "                             'Comments_Poor'], axis=1)\n",
    "y = data_common['Rating']\n",
    "\n",
    "MAE(X, y)"
   ]
  },
  {
   "cell_type": "markdown",
   "metadata": {},
   "source": [
    "## Kaggle "
   ]
  },
  {
   "cell_type": "code",
   "execution_count": 525,
   "metadata": {},
   "outputs": [],
   "source": [
    "task = pd.read_csv('kaggle_task.csv')"
   ]
  },
  {
   "cell_type": "code",
   "execution_count": 527,
   "metadata": {},
   "outputs": [
    {
     "name": "stdout",
     "output_type": "stream",
     "text": [
      "<class 'pandas.core.frame.DataFrame'>\n",
      "RangeIndex: 10000 entries, 0 to 9999\n",
      "Data columns (total 10 columns):\n",
      "Restaurant_id        10000 non-null object\n",
      "Name                 10000 non-null object\n",
      "City                 10000 non-null object\n",
      "Cuisine Style        7693 non-null object\n",
      "Ranking              10000 non-null float64\n",
      "Price Range          6525 non-null object\n",
      "Number of Reviews    9343 non-null float64\n",
      "Reviews              9998 non-null object\n",
      "URL_TA               10000 non-null object\n",
      "ID_TA                10000 non-null object\n",
      "dtypes: float64(2), object(8)\n",
      "memory usage: 781.4+ KB\n"
     ]
    }
   ],
   "source": [
    "task.info()"
   ]
  },
  {
   "cell_type": "code",
   "execution_count": null,
   "metadata": {
    "scrolled": true
   },
   "outputs": [],
   "source": [
    "task_df = task.copy()\n",
    "task_pr = get_price_range_from_site(task_df)"
   ]
  },
  {
   "cell_type": "code",
   "execution_count": null,
   "metadata": {},
   "outputs": [],
   "source": [
    "task_cs = get_additioinal_cuisines(task_df, all_cuisines)"
   ]
  },
  {
   "cell_type": "code",
   "execution_count": 530,
   "metadata": {},
   "outputs": [],
   "source": [
    "task_pr.to_csv('kaggle_additional_price_ranges.csv')\n",
    "task_cs.to_csv('kaggle_additional_cuisines.csv')"
   ]
  },
  {
   "cell_type": "code",
   "execution_count": 531,
   "metadata": {},
   "outputs": [],
   "source": [
    "task_prs = pd.read_csv('kaggle_additional_price_ranges.csv', index_col=0, header=None)\n",
    "task_css = pd.read_csv('kaggle_additional_cuisines.csv', index_col=0, header=None)"
   ]
  },
  {
   "cell_type": "code",
   "execution_count": 552,
   "metadata": {},
   "outputs": [],
   "source": [
    "task['Price Range'].fillna(task_prs.iloc[:, 0], inplace=True)\n",
    "task['Cuisine Style'].fillna(task_css.iloc[:, 0], inplace=True)"
   ]
  },
  {
   "cell_type": "code",
   "execution_count": 569,
   "metadata": {},
   "outputs": [],
   "source": [
    "reviews = task.loc[:, 'Reviews'].replace(np.nan, '[[], []]')\n",
    "reviews_dates = reviews.apply(lambda x: get_dates(x))\n",
    "\n",
    "task_dates_df = pd.concat([pd.Series([date[1] for date in reviews_dates]),\n",
    "                           pd.Series([date[0] for date in reviews_dates])], axis=1)\n",
    "\n",
    "task_dates_df.columns = ['FRDate', 'SRDate']\n",
    "task_dates_df['FRDate'] = pd.to_datetime(task_dates_df['FRDate'])\n",
    "task_dates_df['SRDate'] = pd.to_datetime(task_dates_df['SRDate'])\n",
    "\n",
    "# Вычисляем разницу по дням между отзывами, пропуски для наблюдений, у которых нет отзывов и дат, заполним нулями \n",
    "task_dates_df['Days Delta'] = task_dates_df['SRDate'] - task_dates_df['FRDate']\n",
    "task_dates_df['Days Delta'] = task_dates_df['Days Delta'].apply(lambda x: x.days)\n",
    "task_dates_df['Days Delta'].fillna(0, inplace=True)\n",
    "#task_dates_df[task_dates_df['Days Delta'] == dates_df['Days Delta'].max()]"
   ]
  },
  {
   "cell_type": "code",
   "execution_count": 572,
   "metadata": {},
   "outputs": [],
   "source": [
    "task['Capital'] = task['City'].apply(is_restaurant_in_capital)\n",
    "task['Top Country'] = task['City'].apply(is_city_of_top_tourism_country)\n",
    "task['Population'] = task['City'].apply(lambda x: POPULATION[x])\n",
    "\n",
    "task['Arrivals_17'] = task['City'].apply(lambda x: ARRIVALS_17[x])\n",
    "task['Arrivals_18'] = task['City'].apply(lambda x: ARRIVALS_18[x])\n",
    "task['Arrivals_17'].fillna(task['Arrivals_17'].median(), inplace=True)\n",
    "task['Arrivals_18'].fillna(task['Arrivals_18'].median(), inplace=True)\n",
    "\n",
    "# Пропущенные значения заполнены средним количеством отзывов для конкретного города\n",
    "task['Number of Reviews'].fillna(mean_number_of_reviews_per_city(task), inplace=True)\n",
    "\n",
    "# Пропуски заполнены типами кухонь, описанными в ADDITIONAL_CUISINES\n",
    "task_adds_cuisines = task[task['Cuisine Style'].isnull()]['Cuisine Style'].fillna(task['City']).apply(lambda x: ADDITIONAL_CUISINES[x])\n",
    "task['Cuisine Style'].fillna(task_adds_cuisines, inplace=True)\n",
    "task['Cuisine Style'] = task['Cuisine Style'].apply(lambda x: cuisines_to_list(x))\n",
    "\n",
    "task['Cuisine Count'] = task['Cuisine Style'].apply(lambda l: len(l))\n",
    "task['Cuisine Mean'] = task['Cuisine Count'] / len(all_cuisines)\n",
    "\n",
    "# Price Range - не категориальный признак, поэтому поставим в соответствие каждому диапазону число, пропуски заполнены нулями\n",
    "task['Price Range'] = task['Price Range'].apply(price_range_to_number)\n",
    "task['Days Delta'] = task_dates_df['Days Delta']"
   ]
  },
  {
   "cell_type": "code",
   "execution_count": 576,
   "metadata": {},
   "outputs": [],
   "source": [
    "for item in all_cuisines:\n",
    "    task[item] = task['Cuisine Style'].apply(lambda l: 1 if item in l else 0)"
   ]
  },
  {
   "cell_type": "code",
   "execution_count": 575,
   "metadata": {},
   "outputs": [],
   "source": [
    "task['Arrival Growth'] = round((task['Arrivals_18'] - task['Arrivals_17']) / task['Arrivals_17'] * 100, 1)"
   ]
  },
  {
   "cell_type": "code",
   "execution_count": 577,
   "metadata": {},
   "outputs": [],
   "source": [
    "def most_popular_food_in_menu(cuisines):\n",
    "    pizza = cuisines.count('Pizza')\n",
    "    sushi = cuisines.count('Sushi')\n",
    "    \n",
    "    if pizza == 0 and sushi == 0:\n",
    "        return 0\n",
    "    \n",
    "    if pizza == 1 and sushi == 1:\n",
    "        return 2\n",
    "    \n",
    "    return 1"
   ]
  },
  {
   "cell_type": "code",
   "execution_count": 578,
   "metadata": {},
   "outputs": [],
   "source": [
    "task['Pizza and Sushi'] = task['Cuisine Style'].apply(most_popular_food_in_menu)"
   ]
  },
  {
   "cell_type": "code",
   "execution_count": 579,
   "metadata": {},
   "outputs": [],
   "source": [
    "for city in CITIES:\n",
    "    task[city] = (task['City'] == city).astype(int)"
   ]
  },
  {
   "cell_type": "code",
   "execution_count": 593,
   "metadata": {},
   "outputs": [],
   "source": [
    "for word in POSITIVE_WORDS:\n",
    "    task[word] = task['Reviews'].replace(np.nan, '[[], []]').apply(lambda s: 1 if word in s.lower() else 0)\n",
    "    \n",
    "for word in NEGATIVE_WORDS:\n",
    "    task[word] = task['Reviews'].replace(np.nan, '[[], []]').apply(lambda s: 1 if word in s.lower() else 0)"
   ]
  },
  {
   "cell_type": "code",
   "execution_count": 594,
   "metadata": {},
   "outputs": [
    {
     "data": {
      "text/html": [
       "<div>\n",
       "<style scoped>\n",
       "    .dataframe tbody tr th:only-of-type {\n",
       "        vertical-align: middle;\n",
       "    }\n",
       "\n",
       "    .dataframe tbody tr th {\n",
       "        vertical-align: top;\n",
       "    }\n",
       "\n",
       "    .dataframe thead th {\n",
       "        text-align: right;\n",
       "    }\n",
       "</style>\n",
       "<table border=\"1\" class=\"dataframe\">\n",
       "  <thead>\n",
       "    <tr style=\"text-align: right;\">\n",
       "      <th></th>\n",
       "      <th>Restaurant_id</th>\n",
       "      <th>Name</th>\n",
       "      <th>City</th>\n",
       "      <th>Cuisine Style</th>\n",
       "      <th>Ranking</th>\n",
       "      <th>Price Range</th>\n",
       "      <th>Number of Reviews</th>\n",
       "      <th>Reviews</th>\n",
       "      <th>URL_TA</th>\n",
       "      <th>ID_TA</th>\n",
       "      <th>...</th>\n",
       "      <th>stinky</th>\n",
       "      <th>stuck</th>\n",
       "      <th>stupid</th>\n",
       "      <th>terrible</th>\n",
       "      <th>ugly</th>\n",
       "      <th>unpleasant</th>\n",
       "      <th>unwelcome</th>\n",
       "      <th>upset</th>\n",
       "      <th>wary</th>\n",
       "      <th>yell</th>\n",
       "    </tr>\n",
       "  </thead>\n",
       "  <tbody>\n",
       "    <tr>\n",
       "      <td>0</td>\n",
       "      <td>id_0</td>\n",
       "      <td>Le Perchoir</td>\n",
       "      <td>Paris</td>\n",
       "      <td>[Bar, Pub]</td>\n",
       "      <td>12963.0</td>\n",
       "      <td>2</td>\n",
       "      <td>4.0</td>\n",
       "      <td>[[], []]</td>\n",
       "      <td>/Restaurant_Review-g187147-d10746918-Reviews-L...</td>\n",
       "      <td>d10746918</td>\n",
       "      <td>...</td>\n",
       "      <td>0</td>\n",
       "      <td>0</td>\n",
       "      <td>0</td>\n",
       "      <td>0</td>\n",
       "      <td>0</td>\n",
       "      <td>0</td>\n",
       "      <td>0</td>\n",
       "      <td>0</td>\n",
       "      <td>0</td>\n",
       "      <td>0</td>\n",
       "    </tr>\n",
       "    <tr>\n",
       "      <td>1</td>\n",
       "      <td>id_1</td>\n",
       "      <td>Ravintola Kolmon3n</td>\n",
       "      <td>Helsinki</td>\n",
       "      <td>[European, Scandinavian, Gluten Free Options, ...</td>\n",
       "      <td>106.0</td>\n",
       "      <td>2</td>\n",
       "      <td>97.0</td>\n",
       "      <td>[['Very good reviews!', 'Fine dining in Hakani...</td>\n",
       "      <td>/Restaurant_Review-g189934-d6674944-Reviews-Ra...</td>\n",
       "      <td>d6674944</td>\n",
       "      <td>...</td>\n",
       "      <td>0</td>\n",
       "      <td>0</td>\n",
       "      <td>0</td>\n",
       "      <td>0</td>\n",
       "      <td>0</td>\n",
       "      <td>0</td>\n",
       "      <td>0</td>\n",
       "      <td>0</td>\n",
       "      <td>0</td>\n",
       "      <td>0</td>\n",
       "    </tr>\n",
       "    <tr>\n",
       "      <td>2</td>\n",
       "      <td>id_2</td>\n",
       "      <td>Black Ivy</td>\n",
       "      <td>Edinburgh</td>\n",
       "      <td>[Vegetarian Friendly]</td>\n",
       "      <td>810.0</td>\n",
       "      <td>2</td>\n",
       "      <td>28.0</td>\n",
       "      <td>[['Better than the Links', 'Ivy Black'], ['12/...</td>\n",
       "      <td>/Restaurant_Review-g186525-d13129638-Reviews-B...</td>\n",
       "      <td>d13129638</td>\n",
       "      <td>...</td>\n",
       "      <td>0</td>\n",
       "      <td>0</td>\n",
       "      <td>0</td>\n",
       "      <td>0</td>\n",
       "      <td>0</td>\n",
       "      <td>0</td>\n",
       "      <td>0</td>\n",
       "      <td>0</td>\n",
       "      <td>0</td>\n",
       "      <td>0</td>\n",
       "    </tr>\n",
       "    <tr>\n",
       "      <td>3</td>\n",
       "      <td>id_3</td>\n",
       "      <td>Quirinale</td>\n",
       "      <td>London</td>\n",
       "      <td>[Italian, Mediterranean, European, Vegetarian ...</td>\n",
       "      <td>1669.0</td>\n",
       "      <td>3</td>\n",
       "      <td>202.0</td>\n",
       "      <td>[['Most exquisite', 'Delicious and authentic']...</td>\n",
       "      <td>/Restaurant_Review-g186338-d680417-Reviews-Qui...</td>\n",
       "      <td>d680417</td>\n",
       "      <td>...</td>\n",
       "      <td>0</td>\n",
       "      <td>0</td>\n",
       "      <td>0</td>\n",
       "      <td>0</td>\n",
       "      <td>0</td>\n",
       "      <td>0</td>\n",
       "      <td>0</td>\n",
       "      <td>0</td>\n",
       "      <td>0</td>\n",
       "      <td>0</td>\n",
       "    </tr>\n",
       "    <tr>\n",
       "      <td>4</td>\n",
       "      <td>id_4</td>\n",
       "      <td>Massimo Ristorante</td>\n",
       "      <td>Bratislava</td>\n",
       "      <td>[Italian, Mediterranean, European, Seafood, Ve...</td>\n",
       "      <td>37.0</td>\n",
       "      <td>3</td>\n",
       "      <td>162.0</td>\n",
       "      <td>[['Always the best in bratislava', 'Very good ...</td>\n",
       "      <td>/Restaurant_Review-g274924-d1112354-Reviews-Ma...</td>\n",
       "      <td>d1112354</td>\n",
       "      <td>...</td>\n",
       "      <td>0</td>\n",
       "      <td>0</td>\n",
       "      <td>0</td>\n",
       "      <td>0</td>\n",
       "      <td>0</td>\n",
       "      <td>0</td>\n",
       "      <td>0</td>\n",
       "      <td>0</td>\n",
       "      <td>0</td>\n",
       "      <td>0</td>\n",
       "    </tr>\n",
       "  </tbody>\n",
       "</table>\n",
       "<p>5 rows × 296 columns</p>\n",
       "</div>"
      ],
      "text/plain": [
       "  Restaurant_id                Name        City  \\\n",
       "0          id_0         Le Perchoir       Paris   \n",
       "1          id_1  Ravintola Kolmon3n    Helsinki   \n",
       "2          id_2           Black Ivy   Edinburgh   \n",
       "3          id_3           Quirinale      London   \n",
       "4          id_4  Massimo Ristorante  Bratislava   \n",
       "\n",
       "                                       Cuisine Style  Ranking  Price Range  \\\n",
       "0                                         [Bar, Pub]  12963.0            2   \n",
       "1  [European, Scandinavian, Gluten Free Options, ...    106.0            2   \n",
       "2                              [Vegetarian Friendly]    810.0            2   \n",
       "3  [Italian, Mediterranean, European, Vegetarian ...   1669.0            3   \n",
       "4  [Italian, Mediterranean, European, Seafood, Ve...     37.0            3   \n",
       "\n",
       "   Number of Reviews                                            Reviews  \\\n",
       "0                4.0                                           [[], []]   \n",
       "1               97.0  [['Very good reviews!', 'Fine dining in Hakani...   \n",
       "2               28.0  [['Better than the Links', 'Ivy Black'], ['12/...   \n",
       "3              202.0  [['Most exquisite', 'Delicious and authentic']...   \n",
       "4              162.0  [['Always the best in bratislava', 'Very good ...   \n",
       "\n",
       "                                              URL_TA      ID_TA  ...  stinky  \\\n",
       "0  /Restaurant_Review-g187147-d10746918-Reviews-L...  d10746918  ...       0   \n",
       "1  /Restaurant_Review-g189934-d6674944-Reviews-Ra...   d6674944  ...       0   \n",
       "2  /Restaurant_Review-g186525-d13129638-Reviews-B...  d13129638  ...       0   \n",
       "3  /Restaurant_Review-g186338-d680417-Reviews-Qui...    d680417  ...       0   \n",
       "4  /Restaurant_Review-g274924-d1112354-Reviews-Ma...   d1112354  ...       0   \n",
       "\n",
       "   stuck  stupid  terrible  ugly  unpleasant  unwelcome  upset  wary  yell  \n",
       "0      0       0         0     0           0          0      0     0     0  \n",
       "1      0       0         0     0           0          0      0     0     0  \n",
       "2      0       0         0     0           0          0      0     0     0  \n",
       "3      0       0         0     0           0          0      0     0     0  \n",
       "4      0       0         0     0           0          0      0     0     0  \n",
       "\n",
       "[5 rows x 296 columns]"
      ]
     },
     "execution_count": 594,
     "metadata": {},
     "output_type": "execute_result"
    }
   ],
   "source": [
    "task.head()"
   ]
  },
  {
   "cell_type": "code",
   "execution_count": 597,
   "metadata": {},
   "outputs": [],
   "source": [
    "#X_train, X_test, y_train, y_test = train_test_split(X, y, test_size=0.25)\n",
    "X_train = data.drop(labels=['Restaurant_id','City','Cuisine Style','Reviews','URL_TA','ID_TA','Rating'], axis=1)\n",
    "y_train = data['Rating']\n",
    "X_test = task.drop(labels=['Restaurant_id','Name','City','Cuisine Style','Reviews','URL_TA','ID_TA'], axis=1)\n",
    "\n",
    "    \n",
    "estimator = RandomForestRegressor(n_estimators=100, random_state=42)\n",
    "estimator.fit(X_train, y_train)\n",
    "y_pred = estimator.predict(X_test)"
   ]
  },
  {
   "cell_type": "code",
   "execution_count": 598,
   "metadata": {},
   "outputs": [],
   "source": [
    "results = pd.concat([task.Restaurant_id, pd.Series(y_pred)], axis=1)"
   ]
  },
  {
   "cell_type": "code",
   "execution_count": 599,
   "metadata": {},
   "outputs": [],
   "source": [
    "results.to_csv('solution_2.csv', index = False)"
   ]
  }
 ],
 "metadata": {
  "kernelspec": {
   "display_name": "Python 3",
   "language": "python",
   "name": "python3"
  },
  "language_info": {
   "codemirror_mode": {
    "name": "ipython",
    "version": 3
   },
   "file_extension": ".py",
   "mimetype": "text/x-python",
   "name": "python",
   "nbconvert_exporter": "python",
   "pygments_lexer": "ipython3",
   "version": "3.7.4"
  }
 },
 "nbformat": 4,
 "nbformat_minor": 2
}
